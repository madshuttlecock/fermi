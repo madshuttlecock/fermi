{
 "cells": [
  {
   "cell_type": "code",
   "execution_count": 1,
   "metadata": {},
   "outputs": [],
   "source": [
    "import numpy as np\n",
    "import matplotlib.pyplot as plt\n",
    "\n",
    "def get_picture(name):\n",
    "    x_path = name\n",
    "    y_path = './y/sky'+name[7:]\n",
    "    #print(x_path)\n",
    "    x = np.load(x_path)\n",
    "    y = np.load(y_path)\n",
    "    y_pic = np.zeros_like(x)\n",
    "    for el in y:\n",
    "        y_pic[el[0]][el[1]] = 1\n",
    "    return x, y, y_pic"
   ]
  },
  {
   "cell_type": "code",
   "execution_count": 2,
   "metadata": {},
   "outputs": [],
   "source": [
    "def get_pic(y):\n",
    "    y_pic = np.zeros((200, 200))\n",
    "    for el in y:\n",
    "        y_pic[el[0]][el[1]] = 1\n",
    "    return y_pic"
   ]
  },
  {
   "cell_type": "code",
   "execution_count": 3,
   "metadata": {},
   "outputs": [],
   "source": [
    "x, y, y_pic = get_picture('./x/sky1273.npy')"
   ]
  },
  {
   "cell_type": "code",
   "execution_count": 4,
   "metadata": {},
   "outputs": [
    {
     "data": {
      "text/plain": [
       "<matplotlib.image.AxesImage at 0x7f7b5c171400>"
      ]
     },
     "execution_count": 4,
     "metadata": {},
     "output_type": "execute_result"
    },
    {
     "data": {
      "image/png": "[encoded data removed]",
      "text/plain": [
       "<Figure size 432x288 with 1 Axes>"
      ]
     },
     "metadata": {},
     "output_type": "display_data"
    }
   ],
   "source": [
    "plt.imshow(y_pic)"
   ]
  },
  {
   "cell_type": "code",
   "execution_count": 5,
   "metadata": {},
   "outputs": [],
   "source": [
    "def get_examples(img, y, h=5,w=5):\n",
    "    X_good = []\n",
    "    Y_good = []\n",
    "    X_bad = []\n",
    "    Y_bad = []\n",
    "    H, W = img.shape\n",
    "    for i in range(h+1, H-2*h):\n",
    "        for j in range(w + 1, W-2*w):\n",
    "            piece = img[i-h:i+h+1, j-w:j+w+1]\n",
    "            ans = y[i][j]\n",
    "            if ans:\n",
    "                X_good += [piece]\n",
    "                Y_good += [ans]\n",
    "            else:\n",
    "                X_bad += [piece]\n",
    "                Y_bad += [ans]\n",
    "    #print(X_good, X_bad)\n",
    "    return X_good, Y_good, X_bad, Y_bad"
   ]
  },
  {
   "cell_type": "code",
   "execution_count": 6,
   "metadata": {},
   "outputs": [],
   "source": [
    "def get_raw_examples(img, h=5,w=5):\n",
    "    X_good = []\n",
    "    H, W = img.shape\n",
    "    for i in range(h+1, H-2*h):\n",
    "        for j in range(w + 1, W-2*w):\n",
    "            piece = img[i-h:i+h+1, j-w:j+w+1]\n",
    "            X_good += [piece]\n",
    "    return X_good"
   ]
  },
  {
   "cell_type": "code",
   "execution_count": 7,
   "metadata": {},
   "outputs": [],
   "source": [
    "def get_ans(pred, p=0.8):\n",
    "    ans = []\n",
    "    #print(pred.sum())\n",
    "    _, H, W, _ = pred.shape\n",
    "    for i in range(0, H):\n",
    "        for j in range(W):\n",
    "            if pred[0][i][j][0] > p:\n",
    "                ans += [[i, j]]\n",
    "    return ans"
   ]
  },
  {
   "cell_type": "code",
   "execution_count": 8,
   "metadata": {},
   "outputs": [],
   "source": [
    "from glob import glob\n",
    "path = './x/sky*.npy'"
   ]
  },
  {
   "cell_type": "code",
   "execution_count": 9,
   "metadata": {},
   "outputs": [],
   "source": [
    "def get_dataset(path):\n",
    "    names = glob(path)\n",
    "    X = []\n",
    "    y = []\n",
    "    X1 = []\n",
    "    y11 = []\n",
    "    for el in names:\n",
    "        x, y1, y_pic = get_picture(el)\n",
    "        cur_x, cur_y, cur_x1, cur_y1 = get_examples(x, y_pic)\n",
    "        #print(cur_x[0].shape, cur_y[0].shape)\n",
    "        #print(cur_x1[0].shape, cur_y1[0].shape)\n",
    "        X += cur_x\n",
    "        y += cur_y\n",
    "        X1 += cur_x1\n",
    "        y11 += cur_y1\n",
    "    #print(X.shape)\n",
    "    return X, y, X1, y11\n"
   ]
  },
  {
   "cell_type": "code",
   "execution_count": 10,
   "metadata": {},
   "outputs": [],
   "source": [
    "c = 0\n",
    "def get_slices(x, y):\n",
    "    x_sl = []\n",
    "    y_sl = []\n",
    "    for i in range(20):\n",
    "        for j in range(20):\n",
    "            x_sl += [x[i:i+10, j:j+10]]\n",
    "            y_sl += [x[i:i+10, j:j+10]]\n",
    "    return x_sl, y_sl"
   ]
  },
  {
   "cell_type": "code",
   "execution_count": 11,
   "metadata": {},
   "outputs": [
    {
     "name": "stdout",
     "output_type": "stream",
     "text": [
      "947 947\n"
     ]
    }
   ],
   "source": [
    "path = './x/sky*.npy'\n",
    "names = glob(path)\n",
    "x_data = []\n",
    "y_data = []\n",
    "ypic_data = []\n",
    "for el in names:\n",
    "    x, y1, y_pic = get_picture(el)\n",
    "    x_data += [x]\n",
    "    y_data += [y]\n",
    "    ypic_data += [y_pic]\n",
    "print(len(x_data), len(y_data))"
   ]
  },
  {
   "cell_type": "code",
   "execution_count": 12,
   "metadata": {},
   "outputs": [
    {
     "data": {
      "text/plain": [
       "array([[ 39,  38],\n",
       "       [ 47, 175],\n",
       "       [119, 145],\n",
       "       [126,  56],\n",
       "       [ 72,  94],\n",
       "       [ 51, 115],\n",
       "       [135,  35],\n",
       "       [102,  82]])"
      ]
     },
     "execution_count": 12,
     "metadata": {},
     "output_type": "execute_result"
    }
   ],
   "source": [
    "y_data[1]"
   ]
  },
  {
   "cell_type": "code",
   "execution_count": 13,
   "metadata": {},
   "outputs": [],
   "source": [
    "from random import shuffle\n",
    "def get_batch_generator(x, y, minibatch_size=32, test=0):\n",
    "    n = np.arange(len(x))\n",
    "    #shuffle(n)\n",
    "    cur = 0\n",
    "    while cur < len(x):\n",
    "        #print(\"kek\")\n",
    "        yield np.array(x[cur:cur+minibatch_size])[:,:,:, np.newaxis], \\\n",
    "        np.array(y[cur:cur+minibatch_size]).reshape((min(minibatch_size, len(x) - cur) \\\n",
    "                                                     , 200*200))\n",
    "        cur += minibatch_size"
   ]
  },
  {
   "cell_type": "code",
   "execution_count": 14,
   "metadata": {},
   "outputs": [
    {
     "ename": "NameError",
     "evalue": "name 'X' is not defined",
     "output_type": "error",
     "traceback": [
      "\u001b[0;31m---------------------------------------------------------------------------\u001b[0m",
      "\u001b[0;31mNameError\u001b[0m                                 Traceback (most recent call last)",
      "\u001b[0;32m<ipython-input-14-4b4cddb3a668>\u001b[0m in \u001b[0;36m<module>\u001b[0;34m()\u001b[0m\n\u001b[0;32m----> 1\u001b[0;31m \u001b[0mgen\u001b[0m \u001b[0;34m=\u001b[0m \u001b[0mget_batch_generator\u001b[0m\u001b[0;34m(\u001b[0m\u001b[0mX\u001b[0m\u001b[0;34m,\u001b[0m \u001b[0my\u001b[0m\u001b[0;34m)\u001b[0m\u001b[0;34m\u001b[0m\u001b[0m\n\u001b[0m",
      "\u001b[0;31mNameError\u001b[0m: name 'X' is not defined"
     ]
    }
   ],
   "source": [
    "gen = get_batch_generator(X, y)"
   ]
  },
  {
   "cell_type": "code",
   "execution_count": 15,
   "metadata": {},
   "outputs": [],
   "source": [
    "import os\n",
    "os.environ[\"CUDA_DEVICE_ORDER\"]=\"PCI_BUS_ID\"\n",
    "os.environ[\"CUDA_VISIBLE_DEVICES\"]=\"3\""
   ]
  },
  {
   "cell_type": "code",
   "execution_count": 16,
   "metadata": {},
   "outputs": [],
   "source": [
    "def my_mean_squared_error(y_true, y_pred):\n",
    "    return K.sum(K.square(y_pred - y_true), axis=-1)"
   ]
  },
  {
   "cell_type": "code",
   "execution_count": 17,
   "metadata": {},
   "outputs": [
    {
     "name": "stderr",
     "output_type": "stream",
     "text": [
      "Using TensorFlow backend.\n"
     ]
    }
   ],
   "source": [
    "from keras.models import *\n",
    "from keras.layers import *\n",
    "import keras\n",
    "\n",
    "def get_model():\n",
    "    model = Sequential()\n",
    "    #model.add(BatchNormalization())\n",
    "    model.add(Conv2D(10, (3, 3), activation='relu', padding='same'))\n",
    "    #model.add(Dropout(0.2))\n",
    "    model.add(Conv2D(20, (3, 3), activation='relu', padding='same'))\n",
    "    model.add(BatchNormalization())\n",
    "    model.add(Conv2D(1, (3, 3), activation='relu', padding='same'))\n",
    "    \n",
    "    model.add(Flatten())\n",
    "    #model.add(Dense(100, activation='relu'))\n",
    "    #model.add(Dropout(0.4))\n",
    "    #model.add(Dense(100, activation='relu'))\n",
    "    #model.add(Dense(1, activation='sigmoid'))\n",
    "\n",
    "    optimizer = keras.optimizers.Adam(lr=0.001, beta_1=0.9, beta_2=0.999, epsilon=None, decay=1e-6, amsgrad=False)\n",
    "\n",
    "    model.compile(loss=my_mean_squared_error,\n",
    "                  optimizer=optimizer)\n",
    "    return model"
   ]
  },
  {
   "cell_type": "code",
   "execution_count": 18,
   "metadata": {},
   "outputs": [],
   "source": [
    "model = get_model()"
   ]
  },
  {
   "cell_type": "code",
   "execution_count": 19,
   "metadata": {},
   "outputs": [],
   "source": [
    "data_x = np.array(x_data)\n",
    "data_y = np.array(ypic_data)"
   ]
  },
  {
   "cell_type": "code",
   "execution_count": null,
   "metadata": {},
   "outputs": [],
   "source": [
    "model.fit(data_x.reshape((*data_x.shape,1)), \n",
    "          data_y.reshape((data_y.shape[0], 200*200)),\n",
    "          validation_split=0.2,\n",
    "          #class_weight = {0:1, 1:1000},\n",
    "          batch_size=32, epochs=50)"
   ]
  },
  {
   "cell_type": "code",
   "execution_count": 254,
   "metadata": {},
   "outputs": [
    {
     "name": "stdout",
     "output_type": "stream",
     "text": [
      "10.079720195085486\n"
     ]
    }
   ],
   "source": [
    "pred = model.predict(data_x.reshape((*data_x.shape,1))[130:131])\n",
    "ys = data_y[130:131]\n",
    "print((((pred-ys.reshape(1, 40000))**2).sum()))"
   ]
  },
  {
   "cell_type": "code",
   "execution_count": 20,
   "metadata": {},
   "outputs": [
    {
     "name": "stdout",
     "output_type": "stream",
     "text": [
      "D (947, 200, 200) (947, 200, 200)\n"
     ]
    },
    {
     "ename": "NameError",
     "evalue": "name 'get_batch_generator' is not defined",
     "output_type": "error",
     "traceback": [
      "\u001b[0;31m---------------------------------------------------------------------------\u001b[0m",
      "\u001b[0;31mNameError\u001b[0m                                 Traceback (most recent call last)",
      "\u001b[0;32m<ipython-input-20-b900d011f437>\u001b[0m in \u001b[0;36m<module>\u001b[0;34m()\u001b[0m\n\u001b[1;32m      5\u001b[0m \u001b[0;32mfor\u001b[0m \u001b[0mepoch\u001b[0m \u001b[0;32min\u001b[0m \u001b[0mrange\u001b[0m\u001b[0;34m(\u001b[0m\u001b[0mn_ep\u001b[0m\u001b[0;34m)\u001b[0m\u001b[0;34m:\u001b[0m\u001b[0;34m\u001b[0m\u001b[0m\n\u001b[1;32m      6\u001b[0m     \u001b[0mprint\u001b[0m\u001b[0;34m(\u001b[0m\u001b[0;34m\"D\"\u001b[0m\u001b[0;34m,\u001b[0m \u001b[0mnp\u001b[0m\u001b[0;34m.\u001b[0m\u001b[0marray\u001b[0m\u001b[0;34m(\u001b[0m\u001b[0mx_data\u001b[0m\u001b[0;34m)\u001b[0m\u001b[0;34m.\u001b[0m\u001b[0mshape\u001b[0m\u001b[0;34m,\u001b[0m \u001b[0mnp\u001b[0m\u001b[0;34m.\u001b[0m\u001b[0marray\u001b[0m\u001b[0;34m(\u001b[0m\u001b[0mypic_data\u001b[0m\u001b[0;34m)\u001b[0m\u001b[0;34m.\u001b[0m\u001b[0mshape\u001b[0m\u001b[0;34m)\u001b[0m\u001b[0;34m\u001b[0m\u001b[0m\n\u001b[0;32m----> 7\u001b[0;31m     \u001b[0mbatch_generator\u001b[0m \u001b[0;34m=\u001b[0m \u001b[0mget_batch_generator\u001b[0m\u001b[0;34m(\u001b[0m\u001b[0mx_data\u001b[0m\u001b[0;34m,\u001b[0m \u001b[0mypic_data\u001b[0m\u001b[0;34m,\u001b[0m \u001b[0mminibatch_size\u001b[0m\u001b[0;34m=\u001b[0m\u001b[0;36m32\u001b[0m\u001b[0;34m)\u001b[0m\u001b[0;34m\u001b[0m\u001b[0m\n\u001b[0m\u001b[1;32m      8\u001b[0m     \u001b[0;31m#print([s for s in batch_generator])\u001b[0m\u001b[0;34m\u001b[0m\u001b[0;34m\u001b[0m\u001b[0m\n\u001b[1;32m      9\u001b[0m     \u001b[0mprint\u001b[0m\u001b[0;34m(\u001b[0m\u001b[0;34m\"epoch #{}\"\u001b[0m\u001b[0;34m.\u001b[0m\u001b[0mformat\u001b[0m\u001b[0;34m(\u001b[0m\u001b[0mepoch\u001b[0m\u001b[0;34m)\u001b[0m\u001b[0;34m)\u001b[0m\u001b[0;34m\u001b[0m\u001b[0m\n",
      "\u001b[0;31mNameError\u001b[0m: name 'get_batch_generator' is not defined"
     ]
    }
   ],
   "source": [
    "n_ep = 1\n",
    "from tqdm import tqdm_notebook\n",
    "from time import clock\n",
    "\n",
    "for epoch in range(n_ep):\n",
    "    print(\"D\", np.array(x_data).shape, np.array(ypic_data).shape)\n",
    "    batch_generator = get_batch_generator(x_data, ypic_data, minibatch_size=32)\n",
    "    #print([s for s in batch_generator])\n",
    "    print(\"epoch #{}\".format(epoch))\n",
    "    scores = []\n",
    "    errors = []\n",
    "    #print('r')\n",
    "\n",
    "    t = 0\n",
    "    for i, batch in tqdm_notebook(enumerate(batch_generator)):\n",
    "        #print(len(batch))\n",
    "        cur_X, cur_y = batch\n",
    "        #print(cur_X.shape, np.array(ypic_data).shape)\n",
    "        if i % 10 == 0:\n",
    "            \n",
    "            score = model.test_on_batch(cur_X, cur_y)\n",
    "            pred = model.predict(cur_X)\n",
    "            #print(pred.shape, cur_y.shape, pred.sum(), abs(np.array((pred > 0.5), dtype=int) - cur_y).shape)\n",
    "            #print(abs(np.array((pred > 0.5), dtype=int) == cur_y).mean())\n",
    "            #k = abs(np.array((pred > 0.5), dtype=int) == cur_y)\n",
    "            print(cur_y.shape, pred.shape)\n",
    "            z = np.sum(np.square(pred - cur_y), axis=-1)\n",
    "            print(z.mean())\n",
    "            scores += [((cur_y - pred)**2).sum()/32]\n",
    "            print(\"S\", score, ((cur_y - pred)**2).sum()/32)\n",
    "            errors += [score[0]]\n",
    "            #print(K.round(pred))\n",
    "            #with sess.as_default():\n",
    "            #    print(K.mean(K.equal(cur_y, K.cast(K.round(pred),\"int64\"))).eval())\n",
    "            #print(keras.metrics.binary_accuracy(np.array(cur_y, dtype=np.float32), pred).eval())\n",
    "            #print(score[0])\n",
    "            #scores.append(score[0])\n",
    "            #detected = detect(model, test_img_dir=test_dir, test=5000)\n",
    "            #error = compute_metric(detected, gt, img_shapes)\n",
    "            #errors.append(error)\n",
    "            #print()\n",
    "            #print(\"Score: {}\".format(score))\n",
    "        if i % 1000 == 0:\n",
    "            print(i, clock() - t)\n",
    "        #model.train_on_batch(cur_X, cur_y)\n",
    "    print(\"mean_score_by_epoch:\", np.average(scores))\n",
    "    print(\"mean_func:\", np.average(errors))"
   ]
  },
  {
   "cell_type": "code",
   "execution_count": 20,
   "metadata": {},
   "outputs": [],
   "source": [
    "class model:\n",
    "    def __init__(self, shared=''):\n",
    "        '''\n",
    "        This constructor is supposed to initialize data members.\n",
    "        Use triple quotes for function documentation. \n",
    "        '''\n",
    "        self.X, self.y, self.X1, self.y11 = [], [], [], []\n",
    "\n",
    "        self.is_trained=False\n",
    "        #self.shared=shared\n",
    "\n",
    "    def fit(self, X, y):\n",
    "        '''\n",
    "        This function should train the model parameters.\n",
    "        Here we do nothing in this example...\n",
    "        Args:\n",
    "            X: Training data matrix of dim num_train_samples * num_feat.\n",
    "            y: Training label matrix of dim num_train_samples * num_labels.\n",
    "        Both inputs are numpy arrays.\n",
    "        For classification, labels could be either numbers 0, 1, ... c-1 for c classe\n",
    "        or one-hot encoded vector of zeros, with a 1 at the kth position for class k.\n",
    "        The AutoML format support on-hot encoding, which also works for multi-labels problems.\n",
    "        Use data_converter.convert_to_num() to convert to the category number format.\n",
    "        For regression, labels are continuous values.\n",
    "        '''\n",
    "        from time import clock\n",
    "        t = clock()\n",
    "        #for i in range(len(X)):\n",
    "        #    x = X[i]\n",
    "            #print(y[i])\n",
    "            #break\n",
    "         #   y_pic = get_pic(y[i])\n",
    "            #print(y_pic.sum())\n",
    "            #break\n",
    "          #  cur_x, cur_y, cur_x1, cur_y1 = get_examples(x, y_pic)\n",
    "          #  self.X += cur_x\n",
    "          #  self.y += cur_y\n",
    "          #  self.X1 += cur_x1\n",
    "          #  self.y11 += cur_y1\n",
    "        self.X = X\n",
    "        yy = []\n",
    "        for el in y:\n",
    "            yy += [get_pic(el)]\n",
    "        self.y = yy\n",
    "        n = len(self.X)\n",
    "        #ns = np.arange(n)\n",
    "        from random import shuffle\n",
    "        #shuffle(ns)\n",
    "        #self.X = np.array(self.X)[ns]\n",
    "        #self.y = np.array(self.y)[ns]\n",
    "        \n",
    "        self.train_x = []#np.array(self.X)# + list(self.X1[:100*len(X)])\n",
    "        self.train_y = []#np.array(self.y)# + list(self.y11[:100*len(X)])\n",
    "        for i in range(len(self.X)):\n",
    "            x_sl, y_sl = get_slices(self.X[i], self.y[i])\n",
    "            self.train_x += x_sl\n",
    "            self.train_y += y_sl\n",
    "        #print(\"Dataset\", clock()-t)\n",
    "        #n = len(self.train_x)\n",
    "        #ns = np.arange(n)\n",
    "        #from random import shuffle\n",
    "        #shuffle(ns)\n",
    "\n",
    "        #print(ns[:10])\n",
    "\n",
    "        self.train_x = np.array(self.train_x)#[ns]\n",
    "        self.train_y = np.array(self.train_y)#[ns]\n",
    "        \n",
    "        self.model = get_model()\n",
    "        \n",
    "        self.model.fit(self.train_x.reshape((*self.train_x.shape,1)), \n",
    "                self.train_y.reshape((self.train_y.shape[0],10*10)),\n",
    "                validation_split=0.25,\n",
    "                #class_weight = {0:1, 1:100},\n",
    "                batch_size=32, epochs=50)\n",
    "        \n",
    "        self.is_trained=True\n",
    "        print(\"Training is done!\")\n",
    "\n",
    "    def predict(self, X):\n",
    "        '''\n",
    "        This function should provide predictions of labels on (test) data.\n",
    "\tIn out case X is a dictionary of two fields: Fermi Image and its WCS object.\n",
    "90\n",
    "        Make sure that the predicted values are in the correct format for the scoring\n",
    "        metric. For example, binary classification problems often expect predictions\n",
    "        in the form of a discriminant value (if the area under the ROC curve it the metric)\n",
    "        rather that predictions of the class labels themselves. For multi-class or multi-labels\n",
    "        problems, class probabilities are often expected if the metric is cross-entropy.\n",
    "        Scikit-learn also has a function predict-proba, we do not require it.\n",
    "        The function predict eventually can return probabilities.\n",
    "        '''\n",
    "        y = []\n",
    "        for i in range(len(X)):\n",
    "            print(str(i) + '/' + str(len(X)))\n",
    "            cur = X[i]\n",
    "            x_sl, _ = get_slices(cur, cur)\n",
    "            #pieces = get_raw_examples(cur)\n",
    "            #print(np.array(pieces).shape)\n",
    "            pred = self.model.predict(x_sl.reshape((*x_sl.shape, 1)))\n",
    "            #ans = get_ans(pred.reshape((1, 200, 200, 1)))\n",
    "            #y += [ans]\n",
    "        return pred#y\n",
    "\n",
    "    def save(self, path=\"./\"):\n",
    "        pickle.dump(self, open(path + '_model.pickle', \"wb\"), 2) \n",
    "\n",
    "    def load(self, path=\"./\"):\n",
    "        print(path)\n",
    "        modelfile = path + '_model.pickle'\n",
    "        print(modelfile)\n",
    "        if os.path.isfile(modelfile):\n",
    "            with open(modelfile, 'rb') as f:\n",
    "                self = pickle.load(f)\n",
    "            print(\"Model reloaded from: \" + modelfile)\n",
    "        return self"
   ]
  },
  {
   "cell_type": "code",
   "execution_count": 21,
   "metadata": {},
   "outputs": [],
   "source": [
    "m = model()"
   ]
  },
  {
   "cell_type": "code",
   "execution_count": null,
   "metadata": {},
   "outputs": [
    {
     "name": "stdout",
     "output_type": "stream",
     "text": [
      "Train on 284100 samples, validate on 94700 samples\n",
      "Epoch 1/50\n",
      "284100/284100 [==============================] - 61s 215us/step - loss: 36386613.6742 - val_loss: 623022.1981\n",
      "Epoch 2/50\n",
      "284100/284100 [==============================] - 60s 211us/step - loss: 15583400.3233 - val_loss: 227984.3907\n",
      "Epoch 3/50\n",
      "284100/284100 [==============================] - 60s 210us/step - loss: 11649527.5091 - val_loss: 1302809.5082\n",
      "Epoch 4/50\n",
      "284100/284100 [==============================] - 57s 201us/step - loss: 8409567.4620 - val_loss: 283189.8239\n",
      "Epoch 5/50\n",
      "284100/284100 [==============================] - 61s 216us/step - loss: 7062328.2159 - val_loss: 126937.3521\n",
      "Epoch 6/50\n",
      "284100/284100 [==============================] - 63s 222us/step - loss: 6726759.8886 - val_loss: 240411.9227\n",
      "Epoch 7/50\n",
      "284100/284100 [==============================] - 62s 220us/step - loss: 6543661.8767 - val_loss: 54858.6347\n",
      "Epoch 8/50\n",
      "284100/284100 [==============================] - 62s 220us/step - loss: 5157627.0677 - val_loss: 277611.6620\n",
      "Epoch 9/50\n",
      "284100/284100 [==============================] - 63s 220us/step - loss: 4765320.5324 - val_loss: 68318.1652\n",
      "Epoch 10/50\n",
      "284100/284100 [==============================] - 62s 217us/step - loss: 4161286.5071 - val_loss: 51799.3231\n",
      "Epoch 11/50\n",
      "284100/284100 [==============================] - 62s 219us/step - loss: 3679817.2014 - val_loss: 440442.2865\n",
      "Epoch 12/50\n",
      "284100/284100 [==============================] - 61s 216us/step - loss: 3513355.8140 - val_loss: 54191.9755\n",
      "Epoch 13/50\n",
      "284100/284100 [==============================] - 62s 219us/step - loss: 3423429.7675 - val_loss: 132834.8154\n",
      "Epoch 14/50\n",
      "284100/284100 [==============================] - 63s 220us/step - loss: 2978395.1612 - val_loss: 117416.1693\n",
      "Epoch 15/50\n",
      "284100/284100 [==============================] - 67s 235us/step - loss: 3059540.1536 - val_loss: 82310.6739\n",
      "Epoch 16/50\n",
      "284100/284100 [==============================] - 302s 1ms/step - loss: 2444001.7466 - val_loss: 82479.7711\n",
      "Epoch 17/50\n",
      "284100/284100 [==============================] - 307s 1ms/step - loss: 2795902.8585 - val_loss: 228178.0497\n",
      "Epoch 18/50\n",
      "284100/284100 [==============================] - 288s 1ms/step - loss: 2246981.4597 - val_loss: 56377.8478\n",
      "Epoch 19/50\n",
      "284100/284100 [==============================] - 60s 213us/step - loss: 2159090.2810 - val_loss: 100156.8688\n",
      "Epoch 20/50\n",
      "284100/284100 [==============================] - 61s 216us/step - loss: 1965335.6386 - val_loss: 70411.2789\n",
      "Epoch 21/50\n",
      "284100/284100 [==============================] - 62s 217us/step - loss: 1923300.2090 - val_loss: 170722.4239\n",
      "Epoch 22/50\n",
      "284100/284100 [==============================] - 61s 215us/step - loss: 1753169.4656 - val_loss: 70480.9467\n",
      "Epoch 23/50\n",
      "284100/284100 [==============================] - 60s 213us/step - loss: 1900308.2665 - val_loss: 80969.7547\n",
      "Epoch 24/50\n",
      "284100/284100 [==============================] - 62s 219us/step - loss: 1579973.8076 - val_loss: 174800.5412\n",
      "Epoch 25/50\n",
      "284100/284100 [==============================] - 62s 217us/step - loss: 1625996.5576 - val_loss: 136341.5871\n",
      "Epoch 26/50\n",
      "284100/284100 [==============================] - 62s 218us/step - loss: 2396088.7854 - val_loss: 189349.2883\n",
      "Epoch 27/50\n",
      "203968/284100 [====================>.........] - ETA: 15s - loss: 1561641.1347"
     ]
    }
   ],
   "source": [
    "m.fit(x_data, y_data)"
   ]
  },
  {
   "cell_type": "code",
   "execution_count": 261,
   "metadata": {},
   "outputs": [],
   "source": [
    "xx, yy = [x_data[155]], [y_data[155]]\n"
   ]
  },
  {
   "cell_type": "code",
   "execution_count": 262,
   "metadata": {},
   "outputs": [
    {
     "data": {
      "text/plain": [
       "<matplotlib.image.AxesImage at 0x7fc5d2652a20>"
      ]
     },
     "execution_count": 262,
     "metadata": {},
     "output_type": "execute_result"
    },
    {
     "data": {
      "image/png": "[encoded data removed]",
      "text/plain": [
       "<Figure size 432x288 with 1 Axes>"
      ]
     },
     "metadata": {},
     "output_type": "display_data"
    }
   ],
   "source": [
    "plt.imshow(xx[0])"
   ]
  },
  {
   "cell_type": "code",
   "execution_count": 263,
   "metadata": {},
   "outputs": [
    {
     "data": {
      "text/plain": [
       "[array([[ 39,  38],\n",
       "        [ 47, 175],\n",
       "        [119, 145],\n",
       "        [126,  56],\n",
       "        [ 72,  94],\n",
       "        [ 51, 115],\n",
       "        [135,  35],\n",
       "        [102,  82]])]"
      ]
     },
     "execution_count": 263,
     "metadata": {},
     "output_type": "execute_result"
    }
   ],
   "source": [
    "yy"
   ]
  },
  {
   "cell_type": "code",
   "execution_count": 264,
   "metadata": {},
   "outputs": [
    {
     "name": "stdout",
     "output_type": "stream",
     "text": [
      "0/1\n",
      "0.0\n"
     ]
    }
   ],
   "source": [
    "y = m.predict(xx)\n"
   ]
  },
  {
   "cell_type": "code",
   "execution_count": 280,
   "metadata": {},
   "outputs": [
    {
     "name": "stdout",
     "output_type": "stream",
     "text": [
      "0.10561487506872118\n"
     ]
    }
   ],
   "source": [
    "cnt = 0\n",
    "y = []\n",
    "\n",
    "for i in range(len(x_data[:10])):\n",
    "    #print(str(i) + '/' + str(len(x_data)))\n",
    "    cur = x_data[i]\n",
    "    pic = ypic_data[i]\n",
    "    #pieces = get_raw_examples(cur)\n",
    "    #print(np.array(pieces).shape)\n",
    "    pred = m.model.predict(cur.reshape((1, *cur.shape, 1)))\n",
    "    cnt += ((pred.ravel()-pic.ravel())**2).sum()\n",
    "    #print()\n",
    "    ans = get_ans(pred.reshape(-1, 200, 200, 1), p=0.001)\n",
    "    y += [ans]\n",
    "#print(y)\n",
    "print(cnt / len(x_data))"
   ]
  },
  {
   "cell_type": "code",
   "execution_count": 281,
   "metadata": {},
   "outputs": [
    {
     "data": {
      "text/plain": [
       "[[],\n",
       " [[199, 160], [199, 161]],\n",
       " [[168, 56]],\n",
       " [],\n",
       " [],\n",
       " [],\n",
       " [[5, 120]],\n",
       " [],\n",
       " [],\n",
       " [[199, 59], [199, 60]]]"
      ]
     },
     "execution_count": 281,
     "metadata": {},
     "output_type": "execute_result"
    }
   ],
   "source": [
    "y"
   ]
  },
  {
   "cell_type": "code",
   "execution_count": 283,
   "metadata": {},
   "outputs": [
    {
     "data": {
      "text/plain": [
       "[array([[ 39,  38],\n",
       "        [ 47, 175],\n",
       "        [119, 145],\n",
       "        [126,  56],\n",
       "        [ 72,  94],\n",
       "        [ 51, 115],\n",
       "        [135,  35],\n",
       "        [102,  82]]), array([[ 39,  38],\n",
       "        [ 47, 175],\n",
       "        [119, 145],\n",
       "        [126,  56],\n",
       "        [ 72,  94],\n",
       "        [ 51, 115],\n",
       "        [135,  35],\n",
       "        [102,  82]]), array([[ 39,  38],\n",
       "        [ 47, 175],\n",
       "        [119, 145],\n",
       "        [126,  56],\n",
       "        [ 72,  94],\n",
       "        [ 51, 115],\n",
       "        [135,  35],\n",
       "        [102,  82]]), array([[ 39,  38],\n",
       "        [ 47, 175],\n",
       "        [119, 145],\n",
       "        [126,  56],\n",
       "        [ 72,  94],\n",
       "        [ 51, 115],\n",
       "        [135,  35],\n",
       "        [102,  82]]), array([[ 39,  38],\n",
       "        [ 47, 175],\n",
       "        [119, 145],\n",
       "        [126,  56],\n",
       "        [ 72,  94],\n",
       "        [ 51, 115],\n",
       "        [135,  35],\n",
       "        [102,  82]]), array([[ 39,  38],\n",
       "        [ 47, 175],\n",
       "        [119, 145],\n",
       "        [126,  56],\n",
       "        [ 72,  94],\n",
       "        [ 51, 115],\n",
       "        [135,  35],\n",
       "        [102,  82]]), array([[ 39,  38],\n",
       "        [ 47, 175],\n",
       "        [119, 145],\n",
       "        [126,  56],\n",
       "        [ 72,  94],\n",
       "        [ 51, 115],\n",
       "        [135,  35],\n",
       "        [102,  82]]), array([[ 39,  38],\n",
       "        [ 47, 175],\n",
       "        [119, 145],\n",
       "        [126,  56],\n",
       "        [ 72,  94],\n",
       "        [ 51, 115],\n",
       "        [135,  35],\n",
       "        [102,  82]]), array([[ 39,  38],\n",
       "        [ 47, 175],\n",
       "        [119, 145],\n",
       "        [126,  56],\n",
       "        [ 72,  94],\n",
       "        [ 51, 115],\n",
       "        [135,  35],\n",
       "        [102,  82]]), array([[ 39,  38],\n",
       "        [ 47, 175],\n",
       "        [119, 145],\n",
       "        [126,  56],\n",
       "        [ 72,  94],\n",
       "        [ 51, 115],\n",
       "        [135,  35],\n",
       "        [102,  82]])]"
      ]
     },
     "execution_count": 283,
     "metadata": {},
     "output_type": "execute_result"
    }
   ],
   "source": [
    "y_data[:10]"
   ]
  },
  {
   "cell_type": "code",
   "execution_count": null,
   "metadata": {},
   "outputs": [],
   "source": []
  }
 ],
 "metadata": {
  "kernelspec": {
   "display_name": "Python 3",
   "language": "python",
   "name": "python3"
  },
  "language_info": {
   "codemirror_mode": {
    "name": "ipython",
    "version": 3
   },
   "file_extension": ".py",
   "mimetype": "text/x-python",
   "name": "python",
   "nbconvert_exporter": "python",
   "pygments_lexer": "ipython3",
   "version": "3.5.2"
  }
 },
 "nbformat": 4,
 "nbformat_minor": 2
}
