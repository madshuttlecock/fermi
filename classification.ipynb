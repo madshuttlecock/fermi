{
 "cells": [
  {
   "cell_type": "code",
   "execution_count": 2,
   "metadata": {},
   "outputs": [],
   "source": [
    "import numpy as np\n",
    "import matplotlib.pyplot as plt\n",
    "\n",
    "def get_picture(name):\n",
    "    x_path = name\n",
    "    y_path = './y/sky'+name[7:]\n",
    "    #print(x_path)\n",
    "    x = np.load(x_path)\n",
    "    y = np.load(y_path)\n",
    "    y_pic = np.zeros_like(x)\n",
    "    for el in y:\n",
    "        y_pic[el[0]][el[1]] = 1\n",
    "    return x, y, y_pic"
   ]
  },
  {
   "cell_type": "code",
   "execution_count": 3,
   "metadata": {},
   "outputs": [],
   "source": [
    "def get_pic(y):\n",
    "    y_pic = np.zeros((200, 200))\n",
    "    for el in y:\n",
    "        y_pic[el[0]][el[1]] = 1\n",
    "    return y_pic"
   ]
  },
  {
   "cell_type": "code",
   "execution_count": 4,
   "metadata": {},
   "outputs": [],
   "source": [
    "x, y, y_pic = get_picture('./x/sky1273.npy')"
   ]
  },
  {
   "cell_type": "code",
   "execution_count": 5,
   "metadata": {},
   "outputs": [
    {
     "data": {
      "text/plain": [
       "<matplotlib.image.AxesImage at 0x7fc495cf9860>"
      ]
     },
     "execution_count": 5,
     "metadata": {},
     "output_type": "execute_result"
    },
    {
     "data": {
      "image/png": "[encoded data removed]",
      "text/plain": [
       "<Figure size 432x288 with 1 Axes>"
      ]
     },
     "metadata": {},
     "output_type": "display_data"
    }
   ],
   "source": [
    "plt.imshow(y_pic)"
   ]
  },
  {
   "cell_type": "code",
   "execution_count": 6,
   "metadata": {},
   "outputs": [],
   "source": [
    "def get_examples(img, y, h=5,w=5):\n",
    "    X_good = []\n",
    "    Y_good = []\n",
    "    X_bad = []\n",
    "    Y_bad = []\n",
    "    H, W = img.shape\n",
    "    for i in range(h+1, H-2*h):\n",
    "        for j in range(w + 1, W-2*w):\n",
    "            piece = img[i-h:i+h+1, j-w:j+w+1]\n",
    "            ans = y[i][j]\n",
    "            if ans:\n",
    "                X_good += [piece]\n",
    "                Y_good += [ans]\n",
    "            else:\n",
    "                X_bad += [piece]\n",
    "                Y_bad += [ans]\n",
    "    #print(X_good, X_bad)\n",
    "    return X_good, Y_good, X_bad, Y_bad"
   ]
  },
  {
   "cell_type": "code",
   "execution_count": 7,
   "metadata": {},
   "outputs": [],
   "source": [
    "def get_raw_examples(img, h=5,w=5):\n",
    "    X_good = []\n",
    "    H, W = img.shape\n",
    "    for i in range(h+1, H-2*h):\n",
    "        for j in range(w + 1, W-2*w):\n",
    "            piece = img[i-h:i+h+1, j-w:j+w+1]\n",
    "            X_good += [piece]\n",
    "    return X_good"
   ]
  },
  {
   "cell_type": "code",
   "execution_count": 8,
   "metadata": {},
   "outputs": [],
   "source": [
    "def get_ans(shape, pred, h=5,w=5):\n",
    "    ans = []\n",
    "    H, W = shape\n",
    "    ind = 0\n",
    "    for i in range(h+1, H-2*h):\n",
    "        for j in range(w + 1, W-2*w):\n",
    "            if pred[ind] > 0.5:\n",
    "                ans += [[i, j]]\n",
    "            ind += 1\n",
    "    return ans"
   ]
  },
  {
   "cell_type": "code",
   "execution_count": 9,
   "metadata": {},
   "outputs": [],
   "source": [
    "from glob import glob\n",
    "path = './x/sky*.npy'"
   ]
  },
  {
   "cell_type": "code",
   "execution_count": 10,
   "metadata": {},
   "outputs": [],
   "source": [
    "def get_dataset(path):\n",
    "    names = glob(path)\n",
    "    X = []\n",
    "    y = []\n",
    "    X1 = []\n",
    "    y11 = []\n",
    "    for el in names:\n",
    "        x, y1, y_pic = get_picture(el)\n",
    "        cur_x, cur_y, cur_x1, cur_y1 = get_examples(x, y_pic)\n",
    "        #print(cur_x[0].shape, cur_y[0].shape)\n",
    "        #print(cur_x1[0].shape, cur_y1[0].shape)\n",
    "        X += cur_x\n",
    "        y += cur_y\n",
    "        X1 += cur_x1\n",
    "        y11 += cur_y1\n",
    "    #print(X.shape)\n",
    "    return X, y, X1, y11\n"
   ]
  },
  {
   "cell_type": "code",
   "execution_count": 35,
   "metadata": {},
   "outputs": [
    {
     "name": "stdout",
     "output_type": "stream",
     "text": [
      "947 947\n"
     ]
    }
   ],
   "source": [
    "path = './x/sky*.npy'\n",
    "names = glob(path)\n",
    "x_data = []\n",
    "y_data = []\n",
    "ypic_data = []\n",
    "for el in names:\n",
    "    x, y1, y_pic = get_picture(el)\n",
    "    x_data += [x]\n",
    "    y_data += [y]\n",
    "    ypic_data += [y_pic]\n",
    "print(len(x_data), len(y_data))"
   ]
  },
  {
   "cell_type": "code",
   "execution_count": 12,
   "metadata": {},
   "outputs": [
    {
     "data": {
      "text/plain": [
       "array([[ 39,  38],\n",
       "       [ 47, 175],\n",
       "       [119, 145],\n",
       "       [126,  56],\n",
       "       [ 72,  94],\n",
       "       [ 51, 115],\n",
       "       [135,  35],\n",
       "       [102,  82]])"
      ]
     },
     "execution_count": 12,
     "metadata": {},
     "output_type": "execute_result"
    }
   ],
   "source": [
    "y_data[1]"
   ]
  },
  {
   "cell_type": "code",
   "execution_count": 12,
   "metadata": {},
   "outputs": [],
   "source": [
    "cnt = 0\n",
    "for el in sorted(names):\n",
    "    cnt += 1"
   ]
  },
  {
   "cell_type": "code",
   "execution_count": 13,
   "metadata": {},
   "outputs": [
    {
     "data": {
      "text/plain": [
       "947"
      ]
     },
     "execution_count": 13,
     "metadata": {},
     "output_type": "execute_result"
    }
   ],
   "source": [
    "cnt"
   ]
  },
  {
   "cell_type": "code",
   "execution_count": 14,
   "metadata": {},
   "outputs": [
    {
     "name": "stdout",
     "output_type": "stream",
     "text": [
      "CPU times: user 34.4 s, sys: 2.41 s, total: 36.8 s\n",
      "Wall time: 36.8 s\n"
     ]
    }
   ],
   "source": [
    "%%time \n",
    "X, y, X1, y1 = get_dataset(path)"
   ]
  },
  {
   "cell_type": "code",
   "execution_count": 13,
   "metadata": {},
   "outputs": [
    {
     "ename": "NameError",
     "evalue": "name 'X' is not defined",
     "output_type": "error",
     "traceback": [
      "\u001b[0;31m---------------------------------------------------------------------------\u001b[0m",
      "\u001b[0;31mNameError\u001b[0m                                 Traceback (most recent call last)",
      "\u001b[0;32m<ipython-input-13-a83acd5b034a>\u001b[0m in \u001b[0;36m<module>\u001b[0;34m()\u001b[0m\n\u001b[0;32m----> 1\u001b[0;31m \u001b[0mlen\u001b[0m\u001b[0;34m(\u001b[0m\u001b[0mX\u001b[0m\u001b[0;34m)\u001b[0m\u001b[0;34m,\u001b[0m \u001b[0mlen\u001b[0m\u001b[0;34m(\u001b[0m\u001b[0mX1\u001b[0m\u001b[0;34m)\u001b[0m\u001b[0;34m,\u001b[0m \u001b[0mlen\u001b[0m\u001b[0;34m(\u001b[0m\u001b[0my\u001b[0m\u001b[0;34m)\u001b[0m\u001b[0;34m,\u001b[0m \u001b[0mlen\u001b[0m\u001b[0;34m(\u001b[0m\u001b[0my1\u001b[0m\u001b[0;34m)\u001b[0m\u001b[0;34m\u001b[0m\u001b[0m\n\u001b[0m",
      "\u001b[0;31mNameError\u001b[0m: name 'X' is not defined"
     ]
    }
   ],
   "source": [
    "len(X), len(X1), len(y), len(y1)"
   ]
  },
  {
   "cell_type": "code",
   "execution_count": 14,
   "metadata": {},
   "outputs": [
    {
     "ename": "NameError",
     "evalue": "name 'X' is not defined",
     "output_type": "error",
     "traceback": [
      "\u001b[0;31m---------------------------------------------------------------------------\u001b[0m",
      "\u001b[0;31mNameError\u001b[0m                                 Traceback (most recent call last)",
      "\u001b[0;32m<timed exec>\u001b[0m in \u001b[0;36m<module>\u001b[0;34m()\u001b[0m\n",
      "\u001b[0;31mNameError\u001b[0m: name 'X' is not defined"
     ]
    }
   ],
   "source": [
    "%%time\n",
    "train_x = X + X1[:7534000]\n",
    "train_y = y + y1[:7534000]\n",
    "\n",
    "n = len(train_x)\n",
    "ns = np.arange(n)\n",
    "from random import shuffle\n",
    "shuffle(ns)\n",
    "\n",
    "print(ns[:10])\n",
    "\n",
    "train_x = np.array(train_x)[ns]\n",
    "train_y = np.array(train_y)[ns]"
   ]
  },
  {
   "cell_type": "code",
   "execution_count": null,
   "metadata": {},
   "outputs": [],
   "source": []
  },
  {
   "cell_type": "code",
   "execution_count": 15,
   "metadata": {},
   "outputs": [],
   "source": [
    "from random import shuffle\n",
    "def get_batch_generator(x, y, minibatch_size=32, test=0):\n",
    "    n = np.arange(len(x))\n",
    "    #shuffle(n)\n",
    "    cur = 0\n",
    "    while cur < len(x):\n",
    "        #print(\"kek\")\n",
    "        yield np.array(x[cur:cur+minibatch_size])[:,:,:, np.newaxis], \\\n",
    "        np.array(y[cur:cur+minibatch_size])[:, np.newaxis]\n",
    "        cur += minibatch_size"
   ]
  },
  {
   "cell_type": "code",
   "execution_count": 16,
   "metadata": {},
   "outputs": [
    {
     "ename": "NameError",
     "evalue": "name 'X' is not defined",
     "output_type": "error",
     "traceback": [
      "\u001b[0;31m---------------------------------------------------------------------------\u001b[0m",
      "\u001b[0;31mNameError\u001b[0m                                 Traceback (most recent call last)",
      "\u001b[0;32m<ipython-input-16-4b4cddb3a668>\u001b[0m in \u001b[0;36m<module>\u001b[0;34m()\u001b[0m\n\u001b[0;32m----> 1\u001b[0;31m \u001b[0mgen\u001b[0m \u001b[0;34m=\u001b[0m \u001b[0mget_batch_generator\u001b[0m\u001b[0;34m(\u001b[0m\u001b[0mX\u001b[0m\u001b[0;34m,\u001b[0m \u001b[0my\u001b[0m\u001b[0;34m)\u001b[0m\u001b[0;34m\u001b[0m\u001b[0m\n\u001b[0m",
      "\u001b[0;31mNameError\u001b[0m: name 'X' is not defined"
     ]
    }
   ],
   "source": [
    "gen = get_batch_generator(X, y)"
   ]
  },
  {
   "cell_type": "code",
   "execution_count": 17,
   "metadata": {},
   "outputs": [],
   "source": [
    "import os\n",
    "os.environ[\"CUDA_DEVICE_ORDER\"]=\"PCI_BUS_ID\"\n",
    "os.environ[\"CUDA_VISIBLE_DEVICES\"]=\"0, 3\""
   ]
  },
  {
   "cell_type": "code",
   "execution_count": 18,
   "metadata": {},
   "outputs": [
    {
     "name": "stderr",
     "output_type": "stream",
     "text": [
      "Using TensorFlow backend.\n"
     ]
    }
   ],
   "source": [
    "from keras.models import *\n",
    "from keras.layers import *\n",
    "import keras\n",
    "\n",
    "def get_model():\n",
    "    model = Sequential()\n",
    "    #model.add(BatchNormalization())\n",
    "    model.add(Conv2D(64, (3, 3), activation='relu'))\n",
    "    model.add(Conv2D(64, (3, 3), activation='relu'))\n",
    "    \n",
    "    model.add(Flatten())\n",
    "    model.add(Dense(100, activation='relu'))\n",
    "    model.add(Dropout(0.4))\n",
    "    model.add(Dense(100, activation='relu'))\n",
    "    model.add(Dense(1, activation='sigmoid'))\n",
    "\n",
    "    optimizer = keras.optimizers.Adam(lr=0.001, beta_1=0.9, beta_2=0.999, epsilon=None, decay=1e-6, amsgrad=False)\n",
    "\n",
    "    model.compile(loss='binary_crossentropy',\n",
    "                  optimizer=optimizer, metrics=['binary_accuracy'])\n",
    "    return model"
   ]
  },
  {
   "cell_type": "code",
   "execution_count": 19,
   "metadata": {},
   "outputs": [],
   "source": [
    "model = get_model()"
   ]
  },
  {
   "cell_type": "code",
   "execution_count": 119,
   "metadata": {},
   "outputs": [
    {
     "name": "stdout",
     "output_type": "stream",
     "text": [
      "Train on 6033227 samples, validate on 1508307 samples\n",
      "Epoch 1/10\n",
      "6033227/6033227 [==============================] - 1618s 268us/step - loss: 16.3255 - binary_accuracy: 0.9990 - val_loss: 15.1958 - val_binary_accuracy: 0.9991\n",
      "Epoch 2/10\n",
      "6033120/6033227 [============================>.] - ETA: 0s - loss: 16.3288 - binary_accuracy: 0.9990"
     ]
    },
    {
     "ename": "KeyboardInterrupt",
     "evalue": "",
     "output_type": "error",
     "traceback": [
      "\u001b[0;31m---------------------------------------------------------------------------\u001b[0m",
      "\u001b[0;31mKeyboardInterrupt\u001b[0m                         Traceback (most recent call last)",
      "\u001b[0;32m<ipython-input-119-d7b84cb45c46>\u001b[0m in \u001b[0;36m<module>\u001b[0;34m()\u001b[0m\n\u001b[1;32m      3\u001b[0m           \u001b[0mvalidation_split\u001b[0m\u001b[0;34m=\u001b[0m\u001b[0;36m0.2\u001b[0m\u001b[0;34m,\u001b[0m\u001b[0;34m\u001b[0m\u001b[0m\n\u001b[1;32m      4\u001b[0m           \u001b[0mclass_weight\u001b[0m \u001b[0;34m=\u001b[0m \u001b[0;34m{\u001b[0m\u001b[0;36m0\u001b[0m\u001b[0;34m:\u001b[0m\u001b[0;36m1\u001b[0m\u001b[0;34m,\u001b[0m \u001b[0;36m1\u001b[0m\u001b[0;34m:\u001b[0m\u001b[0;36m1000\u001b[0m\u001b[0;34m}\u001b[0m\u001b[0;34m,\u001b[0m\u001b[0;34m\u001b[0m\u001b[0m\n\u001b[0;32m----> 5\u001b[0;31m           batch_size=32, epochs=10)\n\u001b[0m",
      "\u001b[0;32m/usr/local/lib/python3.5/dist-packages/keras/engine/training.py\u001b[0m in \u001b[0;36mfit\u001b[0;34m(self, x, y, batch_size, epochs, verbose, callbacks, validation_split, validation_data, shuffle, class_weight, sample_weight, initial_epoch, steps_per_epoch, validation_steps, **kwargs)\u001b[0m\n\u001b[1;32m   1035\u001b[0m                                         \u001b[0minitial_epoch\u001b[0m\u001b[0;34m=\u001b[0m\u001b[0minitial_epoch\u001b[0m\u001b[0;34m,\u001b[0m\u001b[0;34m\u001b[0m\u001b[0m\n\u001b[1;32m   1036\u001b[0m                                         \u001b[0msteps_per_epoch\u001b[0m\u001b[0;34m=\u001b[0m\u001b[0msteps_per_epoch\u001b[0m\u001b[0;34m,\u001b[0m\u001b[0;34m\u001b[0m\u001b[0m\n\u001b[0;32m-> 1037\u001b[0;31m                                         validation_steps=validation_steps)\n\u001b[0m\u001b[1;32m   1038\u001b[0m \u001b[0;34m\u001b[0m\u001b[0m\n\u001b[1;32m   1039\u001b[0m     def evaluate(self, x=None, y=None,\n",
      "\u001b[0;32m/usr/local/lib/python3.5/dist-packages/keras/engine/training_arrays.py\u001b[0m in \u001b[0;36mfit_loop\u001b[0;34m(model, f, ins, out_labels, batch_size, epochs, verbose, callbacks, val_f, val_ins, shuffle, callback_metrics, initial_epoch, steps_per_epoch, validation_steps)\u001b[0m\n\u001b[1;32m    210\u001b[0m                         val_outs = test_loop(model, val_f, val_ins,\n\u001b[1;32m    211\u001b[0m                                              \u001b[0mbatch_size\u001b[0m\u001b[0;34m=\u001b[0m\u001b[0mbatch_size\u001b[0m\u001b[0;34m,\u001b[0m\u001b[0;34m\u001b[0m\u001b[0m\n\u001b[0;32m--> 212\u001b[0;31m                                              verbose=0)\n\u001b[0m\u001b[1;32m    213\u001b[0m                         \u001b[0mval_outs\u001b[0m \u001b[0;34m=\u001b[0m \u001b[0mto_list\u001b[0m\u001b[0;34m(\u001b[0m\u001b[0mval_outs\u001b[0m\u001b[0;34m)\u001b[0m\u001b[0;34m\u001b[0m\u001b[0m\n\u001b[1;32m    214\u001b[0m                         \u001b[0;31m# Same labels assumed.\u001b[0m\u001b[0;34m\u001b[0m\u001b[0;34m\u001b[0m\u001b[0m\n",
      "\u001b[0;32m/usr/local/lib/python3.5/dist-packages/keras/engine/training_arrays.py\u001b[0m in \u001b[0;36mtest_loop\u001b[0;34m(model, f, ins, batch_size, verbose, steps)\u001b[0m\n\u001b[1;32m    390\u001b[0m                 \u001b[0mins_batch\u001b[0m\u001b[0;34m[\u001b[0m\u001b[0mi\u001b[0m\u001b[0;34m]\u001b[0m \u001b[0;34m=\u001b[0m \u001b[0mins_batch\u001b[0m\u001b[0;34m[\u001b[0m\u001b[0mi\u001b[0m\u001b[0;34m]\u001b[0m\u001b[0;34m.\u001b[0m\u001b[0mtoarray\u001b[0m\u001b[0;34m(\u001b[0m\u001b[0;34m)\u001b[0m\u001b[0;34m\u001b[0m\u001b[0m\n\u001b[1;32m    391\u001b[0m \u001b[0;34m\u001b[0m\u001b[0m\n\u001b[0;32m--> 392\u001b[0;31m             \u001b[0mbatch_outs\u001b[0m \u001b[0;34m=\u001b[0m \u001b[0mf\u001b[0m\u001b[0;34m(\u001b[0m\u001b[0mins_batch\u001b[0m\u001b[0;34m)\u001b[0m\u001b[0;34m\u001b[0m\u001b[0m\n\u001b[0m\u001b[1;32m    393\u001b[0m             \u001b[0;32mif\u001b[0m \u001b[0misinstance\u001b[0m\u001b[0;34m(\u001b[0m\u001b[0mbatch_outs\u001b[0m\u001b[0;34m,\u001b[0m \u001b[0mlist\u001b[0m\u001b[0;34m)\u001b[0m\u001b[0;34m:\u001b[0m\u001b[0;34m\u001b[0m\u001b[0m\n\u001b[1;32m    394\u001b[0m                 \u001b[0;32mif\u001b[0m \u001b[0mbatch_index\u001b[0m \u001b[0;34m==\u001b[0m \u001b[0;36m0\u001b[0m\u001b[0;34m:\u001b[0m\u001b[0;34m\u001b[0m\u001b[0m\n",
      "\u001b[0;32m/usr/local/lib/python3.5/dist-packages/keras/backend/tensorflow_backend.py\u001b[0m in \u001b[0;36m__call__\u001b[0;34m(self, inputs)\u001b[0m\n\u001b[1;32m   2664\u001b[0m                 \u001b[0;32mreturn\u001b[0m \u001b[0mself\u001b[0m\u001b[0;34m.\u001b[0m\u001b[0m_legacy_call\u001b[0m\u001b[0;34m(\u001b[0m\u001b[0minputs\u001b[0m\u001b[0;34m)\u001b[0m\u001b[0;34m\u001b[0m\u001b[0m\n\u001b[1;32m   2665\u001b[0m \u001b[0;34m\u001b[0m\u001b[0m\n\u001b[0;32m-> 2666\u001b[0;31m             \u001b[0;32mreturn\u001b[0m \u001b[0mself\u001b[0m\u001b[0;34m.\u001b[0m\u001b[0m_call\u001b[0m\u001b[0;34m(\u001b[0m\u001b[0minputs\u001b[0m\u001b[0;34m)\u001b[0m\u001b[0;34m\u001b[0m\u001b[0m\n\u001b[0m\u001b[1;32m   2667\u001b[0m         \u001b[0;32melse\u001b[0m\u001b[0;34m:\u001b[0m\u001b[0;34m\u001b[0m\u001b[0m\n\u001b[1;32m   2668\u001b[0m             \u001b[0;32mif\u001b[0m \u001b[0mpy_any\u001b[0m\u001b[0;34m(\u001b[0m\u001b[0mis_tensor\u001b[0m\u001b[0;34m(\u001b[0m\u001b[0mx\u001b[0m\u001b[0;34m)\u001b[0m \u001b[0;32mfor\u001b[0m \u001b[0mx\u001b[0m \u001b[0;32min\u001b[0m \u001b[0minputs\u001b[0m\u001b[0;34m)\u001b[0m\u001b[0;34m:\u001b[0m\u001b[0;34m\u001b[0m\u001b[0m\n",
      "\u001b[0;32m/usr/local/lib/python3.5/dist-packages/keras/backend/tensorflow_backend.py\u001b[0m in \u001b[0;36m_call\u001b[0;34m(self, inputs)\u001b[0m\n\u001b[1;32m   2634\u001b[0m                                 \u001b[0msymbol_vals\u001b[0m\u001b[0;34m,\u001b[0m\u001b[0;34m\u001b[0m\u001b[0m\n\u001b[1;32m   2635\u001b[0m                                 session)\n\u001b[0;32m-> 2636\u001b[0;31m         \u001b[0mfetched\u001b[0m \u001b[0;34m=\u001b[0m \u001b[0mself\u001b[0m\u001b[0;34m.\u001b[0m\u001b[0m_callable_fn\u001b[0m\u001b[0;34m(\u001b[0m\u001b[0;34m*\u001b[0m\u001b[0marray_vals\u001b[0m\u001b[0;34m)\u001b[0m\u001b[0;34m\u001b[0m\u001b[0m\n\u001b[0m\u001b[1;32m   2637\u001b[0m         \u001b[0;32mreturn\u001b[0m \u001b[0mfetched\u001b[0m\u001b[0;34m[\u001b[0m\u001b[0;34m:\u001b[0m\u001b[0mlen\u001b[0m\u001b[0;34m(\u001b[0m\u001b[0mself\u001b[0m\u001b[0;34m.\u001b[0m\u001b[0moutputs\u001b[0m\u001b[0;34m)\u001b[0m\u001b[0;34m]\u001b[0m\u001b[0;34m\u001b[0m\u001b[0m\n\u001b[1;32m   2638\u001b[0m \u001b[0;34m\u001b[0m\u001b[0m\n",
      "\u001b[0;32m/usr/local/lib/python3.5/dist-packages/tensorflow/python/client/session.py\u001b[0m in \u001b[0;36m__call__\u001b[0;34m(self, *args, **kwargs)\u001b[0m\n\u001b[1;32m   1380\u001b[0m           ret = tf_session.TF_SessionRunCallable(\n\u001b[1;32m   1381\u001b[0m               \u001b[0mself\u001b[0m\u001b[0;34m.\u001b[0m\u001b[0m_session\u001b[0m\u001b[0;34m.\u001b[0m\u001b[0m_session\u001b[0m\u001b[0;34m,\u001b[0m \u001b[0mself\u001b[0m\u001b[0;34m.\u001b[0m\u001b[0m_handle\u001b[0m\u001b[0;34m,\u001b[0m \u001b[0margs\u001b[0m\u001b[0;34m,\u001b[0m \u001b[0mstatus\u001b[0m\u001b[0;34m,\u001b[0m\u001b[0;34m\u001b[0m\u001b[0m\n\u001b[0;32m-> 1382\u001b[0;31m               run_metadata_ptr)\n\u001b[0m\u001b[1;32m   1383\u001b[0m         \u001b[0;32mif\u001b[0m \u001b[0mrun_metadata\u001b[0m\u001b[0;34m:\u001b[0m\u001b[0;34m\u001b[0m\u001b[0m\n\u001b[1;32m   1384\u001b[0m           \u001b[0mproto_data\u001b[0m \u001b[0;34m=\u001b[0m \u001b[0mtf_session\u001b[0m\u001b[0;34m.\u001b[0m\u001b[0mTF_GetBuffer\u001b[0m\u001b[0;34m(\u001b[0m\u001b[0mrun_metadata_ptr\u001b[0m\u001b[0;34m)\u001b[0m\u001b[0;34m\u001b[0m\u001b[0m\n",
      "\u001b[0;31mKeyboardInterrupt\u001b[0m: "
     ]
    }
   ],
   "source": [
    "model.fit(train_x.reshape((*train_x.shape,1)), \n",
    "          train_y.reshape((*train_y.shape,1)),\n",
    "          validation_split=0.2,\n",
    "          class_weight = {0:1, 1:1000},\n",
    "          batch_size=32, epochs=10)"
   ]
  },
  {
   "cell_type": "code",
   "execution_count": 123,
   "metadata": {},
   "outputs": [
    {
     "name": "stdout",
     "output_type": "stream",
     "text": [
      "[[1.00211325e-27]\n",
      " [9.51325640e-21]\n",
      " [7.62690252e-21]\n",
      " [6.18265806e-27]\n",
      " [2.04099852e-24]\n",
      " [9.38073738e-31]\n",
      " [4.29621916e-33]\n",
      " [0.00000000e+00]\n",
      " [9.19700352e-34]\n",
      " [2.61115873e-28]\n",
      " [4.41222953e-20]\n",
      " [1.38506025e-17]\n",
      " [3.18645274e-31]\n",
      " [2.18223817e-20]\n",
      " [5.91829434e-25]\n",
      " [1.90768606e-19]\n",
      " [8.97834533e-32]\n",
      " [1.41411443e-24]\n",
      " [3.78282375e-23]\n",
      " [4.91588218e-24]\n",
      " [3.71553219e-17]\n",
      " [2.03514833e-20]\n",
      " [4.19313147e-32]\n",
      " [6.22694366e-27]\n",
      " [0.00000000e+00]\n",
      " [1.11165143e-22]\n",
      " [1.13519727e-26]\n",
      " [2.06446508e-33]\n",
      " [1.68912954e-27]\n",
      " [1.43687196e-23]\n",
      " [4.03082566e-36]\n",
      " [1.78439552e-28]\n",
      " [0.00000000e+00]\n",
      " [7.10401107e-29]\n",
      " [9.59493709e-20]\n",
      " [2.20919550e-24]\n",
      " [4.14239172e-28]\n",
      " [4.21536068e-24]\n",
      " [0.00000000e+00]\n",
      " [1.67925288e-22]\n",
      " [5.85174824e-27]\n",
      " [4.69399714e-21]\n",
      " [3.07732371e-25]\n",
      " [4.13104852e-34]\n",
      " [0.00000000e+00]\n",
      " [1.14653694e-29]\n",
      " [9.83779911e-30]\n",
      " [2.44736535e-22]\n",
      " [2.46796541e-20]\n",
      " [7.80403182e-25]\n",
      " [4.10866399e-29]\n",
      " [2.68760651e-23]\n",
      " [3.29783178e-20]\n",
      " [1.23692994e-20]\n",
      " [1.81835402e-21]\n",
      " [1.07266009e-21]\n",
      " [1.22820145e-23]\n",
      " [5.85674893e-20]\n",
      " [5.06223512e-28]\n",
      " [2.66635954e-35]\n",
      " [1.39737889e-38]\n",
      " [1.85103048e-21]\n",
      " [2.75213694e-17]\n",
      " [2.12501425e-26]\n",
      " [9.24952779e-20]\n",
      " [5.91479821e-24]\n",
      " [4.87976082e-34]\n",
      " [9.28618078e-22]\n",
      " [2.21168317e-24]\n",
      " [4.17241210e-21]\n",
      " [0.00000000e+00]\n",
      " [1.96844646e-18]\n",
      " [3.00436227e-26]\n",
      " [4.63060444e-24]\n",
      " [1.65603513e-20]\n",
      " [7.54346392e-26]\n",
      " [1.05199644e-30]\n",
      " [2.84078102e-22]\n",
      " [3.56827017e-27]\n",
      " [1.77717220e-23]\n",
      " [1.34563611e-16]\n",
      " [3.98156317e-25]\n",
      " [2.60162338e-21]\n",
      " [1.06868191e-21]\n",
      " [2.94789933e-15]\n",
      " [2.09366903e-23]\n",
      " [0.00000000e+00]\n",
      " [4.08410217e-20]\n",
      " [1.48717872e-23]\n",
      " [0.00000000e+00]\n",
      " [8.62692354e-23]\n",
      " [2.13766418e-27]\n",
      " [3.04855574e-26]\n",
      " [0.00000000e+00]\n",
      " [2.94457335e-37]\n",
      " [1.44242157e-34]\n",
      " [0.00000000e+00]\n",
      " [4.02041797e-34]\n",
      " [1.05727291e-26]\n",
      " [4.31928809e-27]\n",
      " [0.00000000e+00]\n",
      " [3.98435356e-20]\n",
      " [4.49571887e-20]\n",
      " [8.99168954e-22]\n",
      " [2.61577564e-20]\n",
      " [0.00000000e+00]\n",
      " [1.84232594e-26]\n",
      " [2.35627102e-19]\n",
      " [1.29271730e-26]\n",
      " [2.03912763e-27]\n",
      " [6.44456221e-20]\n",
      " [3.10755699e-26]\n",
      " [4.96541136e-17]\n",
      " [3.25107033e-25]\n",
      " [7.73026258e-23]\n",
      " [0.00000000e+00]\n",
      " [6.29950731e-26]\n",
      " [6.40938238e-27]\n",
      " [2.56070567e-26]\n",
      " [1.02405485e-21]\n",
      " [7.35628395e-17]\n",
      " [2.97275505e-22]\n",
      " [0.00000000e+00]\n",
      " [5.55719258e-20]\n",
      " [1.35168143e-38]\n",
      " [1.27394952e-24]\n",
      " [6.09047827e-26]\n",
      " [2.75370441e-30]\n",
      " [5.17981170e-28]\n",
      " [6.21965556e-27]\n",
      " [5.36736872e-19]\n",
      " [1.56026994e-22]\n",
      " [7.61011465e-26]\n",
      " [1.35706234e-27]\n",
      " [1.15741418e-27]\n",
      " [0.00000000e+00]\n",
      " [1.61804385e-27]\n",
      " [7.52806213e-32]\n",
      " [6.47612661e-29]\n",
      " [9.38614079e-24]\n",
      " [1.31814078e-30]\n",
      " [2.30853222e-24]\n",
      " [4.36479809e-37]\n",
      " [2.51821479e-29]\n",
      " [0.00000000e+00]\n",
      " [1.06197004e-18]\n",
      " [1.24681364e-25]\n",
      " [3.68915252e-23]\n",
      " [3.79372449e-28]\n",
      " [1.31642489e-26]\n",
      " [1.63045326e-21]\n",
      " [1.17857680e-28]\n",
      " [6.99586621e-24]\n",
      " [1.38353616e-29]\n",
      " [3.02971525e-27]\n",
      " [5.74917450e-18]\n",
      " [2.76786738e-24]\n",
      " [1.13954380e-20]\n",
      " [2.77558417e-25]\n",
      " [8.53670057e-23]\n",
      " [1.76013855e-28]\n",
      " [4.94690039e-25]\n",
      " [2.27972135e-18]\n",
      " [0.00000000e+00]\n",
      " [1.21788356e-27]\n",
      " [2.01334053e-29]\n",
      " [2.61776373e-26]\n",
      " [0.00000000e+00]\n",
      " [5.58519864e-29]\n",
      " [1.97411318e-21]\n",
      " [2.64738885e-26]\n",
      " [0.00000000e+00]\n",
      " [1.24149528e-37]\n",
      " [3.47467922e-23]\n",
      " [2.72345701e-18]\n",
      " [1.15303438e-26]\n",
      " [7.67564930e-20]\n",
      " [3.81338674e-27]\n",
      " [3.74530556e-30]\n",
      " [2.77010186e-20]\n",
      " [4.90121032e-21]\n",
      " [1.54984187e-29]\n",
      " [3.03569922e-25]\n",
      " [1.12432353e-19]\n",
      " [1.25440309e-26]\n",
      " [5.32073270e-24]\n",
      " [6.52893546e-22]\n",
      " [1.45201903e-23]\n",
      " [5.59350852e-31]\n",
      " [1.69604811e-23]\n",
      " [1.68030887e-31]\n",
      " [3.28028654e-23]\n",
      " [8.93653276e-37]\n",
      " [8.50841154e-24]\n",
      " [9.61765160e-21]\n",
      " [9.97272529e-23]\n",
      " [5.29457628e-23]\n",
      " [1.40331366e-23]\n",
      " [3.04068927e-21]\n",
      " [2.10470462e-22]]\n",
      "[0 0 0 0 0 0 0 0 0 0 0 0 0 0 0 0 0 0 0 0]\n"
     ]
    }
   ],
   "source": [
    "pred = model.predict(train_x.reshape((*train_x.shape,1))[300:500])\n",
    "ys = train_y[30:50]\n",
    "print(pred)\n",
    "print(ys)"
   ]
  },
  {
   "cell_type": "code",
   "execution_count": 129,
   "metadata": {},
   "outputs": [
    {
     "name": "stdout",
     "output_type": "stream",
     "text": [
      "0/1\n",
      "(33856, 11, 11, 1)\n",
      "(33856, 1)\n",
      "[[]]\n"
     ]
    }
   ],
   "source": [
    "y = []\n",
    "for i in range(len(xx)):\n",
    "    print(str(i) + '/' + str(len(xx)))\n",
    "    pieces = np.array([a.reshape((*a.shape, 1)) for a in get_raw_examples(xx[i])])\n",
    "    print(np.array(pieces).shape)\n",
    "    #print(pieces[0])\n",
    "    pred = model.predict(pieces)\n",
    "    print(pred.shape)\n",
    "    ans = get_ans(xx[i].shape, pred)\n",
    "    y += [ans]\n",
    "print(y)"
   ]
  },
  {
   "cell_type": "code",
   "execution_count": 35,
   "metadata": {},
   "outputs": [
    {
     "ename": "NameError",
     "evalue": "name 'train' is not defined",
     "output_type": "error",
     "traceback": [
      "\u001b[0;31m---------------------------------------------------------------------------\u001b[0m",
      "\u001b[0;31mNameError\u001b[0m                                 Traceback (most recent call last)",
      "\u001b[0;32m<ipython-input-35-d2c25ce3e3f8>\u001b[0m in \u001b[0;36m<module>\u001b[0;34m()\u001b[0m\n\u001b[1;32m      4\u001b[0m \u001b[0;34m\u001b[0m\u001b[0m\n\u001b[1;32m      5\u001b[0m \u001b[0;32mfor\u001b[0m \u001b[0mepoch\u001b[0m \u001b[0;32min\u001b[0m \u001b[0mrange\u001b[0m\u001b[0;34m(\u001b[0m\u001b[0mn_ep\u001b[0m\u001b[0;34m)\u001b[0m\u001b[0;34m:\u001b[0m\u001b[0;34m\u001b[0m\u001b[0m\n\u001b[0;32m----> 6\u001b[0;31m     \u001b[0mbatch_generator\u001b[0m \u001b[0;34m=\u001b[0m \u001b[0mget_batch_generator\u001b[0m\u001b[0;34m(\u001b[0m\u001b[0mtrain\u001b[0m\u001b[0;34m,\u001b[0m \u001b[0mtest\u001b[0m\u001b[0;34m,\u001b[0m \u001b[0mminibatch_size\u001b[0m\u001b[0;34m=\u001b[0m\u001b[0;36m32\u001b[0m\u001b[0;34m)\u001b[0m\u001b[0;34m\u001b[0m\u001b[0m\n\u001b[0m\u001b[1;32m      7\u001b[0m     \u001b[0;31m#print([s for s in batch_generator])\u001b[0m\u001b[0;34m\u001b[0m\u001b[0;34m\u001b[0m\u001b[0m\n\u001b[1;32m      8\u001b[0m     \u001b[0mprint\u001b[0m\u001b[0;34m(\u001b[0m\u001b[0;34m\"epoch #{}\"\u001b[0m\u001b[0;34m.\u001b[0m\u001b[0mformat\u001b[0m\u001b[0;34m(\u001b[0m\u001b[0mepoch\u001b[0m\u001b[0;34m)\u001b[0m\u001b[0;34m)\u001b[0m\u001b[0;34m\u001b[0m\u001b[0m\n",
      "\u001b[0;31mNameError\u001b[0m: name 'train' is not defined"
     ]
    }
   ],
   "source": [
    "n_ep = 1\n",
    "from tqdm import tqdm_notebook\n",
    "from time import clock\n",
    "\n",
    "for epoch in range(n_ep):\n",
    "    batch_generator = get_batch_generator(train, test, minibatch_size=32)\n",
    "    #print([s for s in batch_generator])\n",
    "    print(\"epoch #{}\".format(epoch))\n",
    "    scores = []\n",
    "    errors = []\n",
    "    #print('r')\n",
    "\n",
    "    t = 0\n",
    "    for i, batch in tqdm_notebook(enumerate(batch_generator)):\n",
    "        #print(len(batch))\n",
    "        cur_X, cur_y = batch\n",
    "        #print(X.shape, y.shape)\n",
    "        if i % 100 == 0:\n",
    "            \n",
    "            score = model.test_on_batch(cur_X, cur_y)\n",
    "            pred = model.predict(cur_X)\n",
    "            #print(pred.shape, cur_y.shape, pred.sum(), abs(np.array((pred > 0.5), dtype=int) - cur_y).shape)\n",
    "            #print(abs(np.array((pred > 0.5), dtype=int) == cur_y).mean())\n",
    "            k = abs(np.array((pred > 0.5), dtype=int) == cur_y)\n",
    "            scores += [(k[cur_y == 1]).mean()]\n",
    "            print(len(score))\n",
    "            errors += [score[0]]\n",
    "            #print(K.round(pred))\n",
    "            #with sess.as_default():\n",
    "            #    print(K.mean(K.equal(cur_y, K.cast(K.round(pred),\"int64\"))).eval())\n",
    "            #print(keras.metrics.binary_accuracy(np.array(cur_y, dtype=np.float32), pred).eval())\n",
    "            #print(score[0])\n",
    "            #scores.append(score[0])\n",
    "            #detected = detect(model, test_img_dir=test_dir, test=5000)\n",
    "            #error = compute_metric(detected, gt, img_shapes)\n",
    "            #errors.append(error)\n",
    "            #print()\n",
    "            #print(\"Score: {}\".format(score))\n",
    "        if i % 1000 == 0:\n",
    "            print(i, clock() - t)\n",
    "        #model.train_on_batch(cur_X, cur_y)\n",
    "    print(\"mean_score_by_epoch:\", np.average(scores))\n",
    "    print(\"mean_func:\", np.average(errors))"
   ]
  },
  {
   "cell_type": "code",
   "execution_count": 20,
   "metadata": {},
   "outputs": [],
   "source": [
    "class model:\n",
    "    def __init__(self, shared=''):\n",
    "        '''\n",
    "        This constructor is supposed to initialize data members.\n",
    "        Use triple quotes for function documentation. \n",
    "        '''\n",
    "        self.X, self.y, self.X1, self.y11 = [], [], [], []\n",
    "\n",
    "        self.is_trained=False\n",
    "        #self.shared=shared\n",
    "\n",
    "    def fit(self, X, y, mod=None):\n",
    "        '''\n",
    "        This function should train the model parameters.\n",
    "        Here we do nothing in this example...\n",
    "        Args:\n",
    "            X: Training data matrix of dim num_train_samples * num_feat.\n",
    "            y: Training label matrix of dim num_train_samples * num_labels.\n",
    "        Both inputs are numpy arrays.\n",
    "        For classification, labels could be either numbers 0, 1, ... c-1 for c classe\n",
    "        or one-hot encoded vector of zeros, with a 1 at the kth position for class k.\n",
    "        The AutoML format support on-hot encoding, which also works for multi-labels problems.\n",
    "        Use data_converter.convert_to_num() to convert to the category number format.\n",
    "        For regression, labels are continuous values.\n",
    "        '''\n",
    "        from time import clock\n",
    "        t = clock()\n",
    "        for i in range(len(X)):\n",
    "            x = X[i]\n",
    "            #print(y[i])\n",
    "            #break\n",
    "            y_pic = get_pic(y[i])\n",
    "            #print(y_pic.sum())\n",
    "            #break\n",
    "            cur_x, cur_y, cur_x1, cur_y1 = get_examples(x, y_pic)\n",
    "            self.X += cur_x\n",
    "            self.y += cur_y\n",
    "            self.X1 += cur_x1\n",
    "            self.y11 += cur_y1\n",
    "        \n",
    "        n = len(self.X1)\n",
    "        ns = np.arange(n)\n",
    "        from random import shuffle\n",
    "        shuffle(ns)\n",
    "        self.X1 = np.array(self.X1)[ns]\n",
    "        self.y11 = np.array(self.y11)[ns]\n",
    "        \n",
    "        self.train_x = self.X + list(self.X1[:10*len(X)])\n",
    "        self.train_y = self.y + list(self.y11[:10*len(X)])\n",
    "        print(\"Dataset\", clock()-t)\n",
    "        n = len(self.train_x)\n",
    "        ns = np.arange(n)\n",
    "        from random import shuffle\n",
    "        shuffle(ns)\n",
    "\n",
    "        print(ns[:10])\n",
    "\n",
    "        self.train_x = np.array(self.train_x)[ns]\n",
    "        self.train_y = np.array(self.train_y)[ns]\n",
    "        \n",
    "        if mod is None:\n",
    "            self.model = get_model()\n",
    "        else:\n",
    "            self.model = mod\n",
    "        \n",
    "        self.model.fit(self.train_x.reshape((*self.train_x.shape,1)), \n",
    "                self.train_y.reshape((*self.train_y.shape,1)),\n",
    "                #validation_split=0.3,\n",
    "                class_weight = {0:1, 1:10},\n",
    "                batch_size=32, epochs=100)\n",
    "        \n",
    "        self.is_trained=True\n",
    "        print(\"Training is done!\")\n",
    "\n",
    "    def predict(self, X):\n",
    "        '''\n",
    "        This function should provide predictions of labels on (test) data.\n",
    "\tIn out case X is a dictionary of two fields: Fermi Image and its WCS object.\n",
    "90\n",
    "        Make sure that the predicted values are in the correct format for the scoring\n",
    "        metric. For example, binary classification problems often expect predictions\n",
    "        in the form of a discriminant value (if the area under the ROC curve it the metric)\n",
    "        rather that predictions of the class labels themselves. For multi-class or multi-labels\n",
    "        problems, class probabilities are often expected if the metric is cross-entropy.\n",
    "        Scikit-learn also has a function predict-proba, we do not require it.\n",
    "        The function predict eventually can return probabilities.\n",
    "        '''\n",
    "        y = []\n",
    "        for i in range(len(X)):\n",
    "            print(str(i) + '/' + str(len(X)))\n",
    "            cur = X[i]\n",
    "            pieces = get_raw_examples(cur)\n",
    "            print(np.array(pieces).shape)\n",
    "            pred = self.model.predict(pieces)\n",
    "            ans = get_ans(cur.shape, pred)\n",
    "            y += [ans]\n",
    "        return y\n",
    "\n",
    "    def save(self, path=\"./\"):\n",
    "        pickle.dump(self, open(path + '_model.pickle', \"wb\"), 2) \n",
    "\n",
    "    def load(self, path=\"./\"):\n",
    "        print(path)\n",
    "        modelfile = path + '_model.pickle'\n",
    "        print(modelfile)\n",
    "        if os.path.isfile(modelfile):\n",
    "            with open(modelfile, 'rb') as f:\n",
    "                self = pickle.load(f)\n",
    "            print(\"Model reloaded from: \" + modelfile)\n",
    "        return self"
   ]
  },
  {
   "cell_type": "code",
   "execution_count": 21,
   "metadata": {},
   "outputs": [],
   "source": [
    "m = model()"
   ]
  },
  {
   "cell_type": "code",
   "execution_count": 22,
   "metadata": {},
   "outputs": [
    {
     "name": "stdout",
     "output_type": "stream",
     "text": [
      "Dataset 137.493594\n",
      "[11284 14961 13302  6778  5842  5759  1029 15612 12800 11361]\n",
      "Epoch 1/100\n",
      "17046/17046 [==============================] - 6s 376us/step - loss: 2.0317 - binary_accuracy: 0.4439\n",
      "Epoch 2/100\n",
      "17046/17046 [==============================] - 4s 209us/step - loss: 1.7703 - binary_accuracy: 0.4444\n",
      "Epoch 3/100\n",
      "17046/17046 [==============================] - 4s 210us/step - loss: 1.7618 - binary_accuracy: 0.4444\n",
      "Epoch 4/100\n",
      "17046/17046 [==============================] - 4s 211us/step - loss: 1.8171 - binary_accuracy: 0.4450\n",
      "Epoch 5/100\n",
      "17046/17046 [==============================] - 3s 204us/step - loss: 1.7498 - binary_accuracy: 0.4444\n",
      "Epoch 6/100\n",
      "17046/17046 [==============================] - 4s 208us/step - loss: 1.7450 - binary_accuracy: 0.4444\n",
      "Epoch 7/100\n",
      "17046/17046 [==============================] - 4s 221us/step - loss: 1.7397 - binary_accuracy: 0.4444\n",
      "Epoch 8/100\n",
      "17046/17046 [==============================] - 3s 204us/step - loss: 1.7338 - binary_accuracy: 0.4444\n",
      "Epoch 9/100\n",
      "17046/17046 [==============================] - 3s 204us/step - loss: 1.7125 - binary_accuracy: 0.4444\n",
      "Epoch 10/100\n",
      "17046/17046 [==============================] - 4s 205us/step - loss: 1.6841 - binary_accuracy: 0.4447\n",
      "Epoch 11/100\n",
      "17046/17046 [==============================] - 3s 204us/step - loss: 1.6333 - binary_accuracy: 0.4480\n",
      "Epoch 12/100\n",
      "17046/17046 [==============================] - 4s 207us/step - loss: 1.5703 - binary_accuracy: 0.4673\n",
      "Epoch 13/100\n",
      "17046/17046 [==============================] - 3s 205us/step - loss: 1.4686 - binary_accuracy: 0.4992\n",
      "Epoch 14/100\n",
      "17046/17046 [==============================] - 4s 214us/step - loss: 1.3575 - binary_accuracy: 0.5471\n",
      "Epoch 15/100\n",
      "17046/17046 [==============================] - 4s 215us/step - loss: 1.2389 - binary_accuracy: 0.5984\n",
      "Epoch 16/100\n",
      "17046/17046 [==============================] - 4s 213us/step - loss: 1.1299 - binary_accuracy: 0.6407\n",
      "Epoch 17/100\n",
      "17046/17046 [==============================] - 4s 207us/step - loss: 1.0540 - binary_accuracy: 0.6723\n",
      "Epoch 18/100\n",
      "17046/17046 [==============================] - 4s 206us/step - loss: 0.9831 - binary_accuracy: 0.6976\n",
      "Epoch 19/100\n",
      "17046/17046 [==============================] - 4s 211us/step - loss: 0.9114 - binary_accuracy: 0.7270\n",
      "Epoch 20/100\n",
      "17046/17046 [==============================] - 4s 215us/step - loss: 0.8514 - binary_accuracy: 0.7468\n",
      "Epoch 21/100\n",
      "17046/17046 [==============================] - 4s 215us/step - loss: 0.8306 - binary_accuracy: 0.7567\n",
      "Epoch 22/100\n",
      "17046/17046 [==============================] - 4s 213us/step - loss: 0.7712 - binary_accuracy: 0.7767\n",
      "Epoch 23/100\n",
      "17046/17046 [==============================] - 4s 213us/step - loss: 0.7604 - binary_accuracy: 0.7761\n",
      "Epoch 24/100\n",
      "17046/17046 [==============================] - 4s 209us/step - loss: 0.7280 - binary_accuracy: 0.7888\n",
      "Epoch 25/100\n",
      "17046/17046 [==============================] - 4s 212us/step - loss: 0.7103 - binary_accuracy: 0.7933\n",
      "Epoch 26/100\n",
      "17046/17046 [==============================] - 4s 206us/step - loss: 0.7063 - binary_accuracy: 0.7988\n",
      "Epoch 27/100\n",
      "17046/17046 [==============================] - 4s 212us/step - loss: 0.6646 - binary_accuracy: 0.8086\n",
      "Epoch 28/100\n",
      "17046/17046 [==============================] - 4s 217us/step - loss: 0.6745 - binary_accuracy: 0.8075\n",
      "Epoch 29/100\n",
      "17046/17046 [==============================] - 4s 214us/step - loss: 0.6648 - binary_accuracy: 0.8120\n",
      "Epoch 30/100\n",
      "17046/17046 [==============================] - 4s 209us/step - loss: 0.6415 - binary_accuracy: 0.8228\n",
      "Epoch 31/100\n",
      "17046/17046 [==============================] - 4s 212us/step - loss: 0.6319 - binary_accuracy: 0.8230\n",
      "Epoch 32/100\n",
      "17046/17046 [==============================] - 4s 221us/step - loss: 0.6186 - binary_accuracy: 0.8298\n",
      "Epoch 33/100\n",
      "17046/17046 [==============================] - 4s 217us/step - loss: 0.6078 - binary_accuracy: 0.8300\n",
      "Epoch 34/100\n",
      "17046/17046 [==============================] - 4s 214us/step - loss: 0.5954 - binary_accuracy: 0.8349\n",
      "Epoch 35/100\n",
      "17046/17046 [==============================] - 4s 211us/step - loss: 0.5816 - binary_accuracy: 0.8403\n",
      "Epoch 36/100\n",
      "17046/17046 [==============================] - 4s 212us/step - loss: 0.5835 - binary_accuracy: 0.8420\n",
      "Epoch 37/100\n",
      "17046/17046 [==============================] - 4s 217us/step - loss: 0.5875 - binary_accuracy: 0.8417\n",
      "Epoch 38/100\n",
      "17046/17046 [==============================] - 4s 211us/step - loss: 0.5625 - binary_accuracy: 0.8458\n",
      "Epoch 39/100\n",
      "17046/17046 [==============================] - 4s 215us/step - loss: 0.5703 - binary_accuracy: 0.8454\n",
      "Epoch 40/100\n",
      "17046/17046 [==============================] - 4s 211us/step - loss: 0.5807 - binary_accuracy: 0.8410\n",
      "Epoch 41/100\n",
      "17046/17046 [==============================] - 4s 207us/step - loss: 0.5738 - binary_accuracy: 0.8462\n",
      "Epoch 42/100\n",
      "17046/17046 [==============================] - 4s 210us/step - loss: 0.5470 - binary_accuracy: 0.8519\n",
      "Epoch 43/100\n",
      "17046/17046 [==============================] - 4s 219us/step - loss: 0.5388 - binary_accuracy: 0.8539\n",
      "Epoch 44/100\n",
      "17046/17046 [==============================] - 4s 214us/step - loss: 0.5366 - binary_accuracy: 0.8564\n",
      "Epoch 45/100\n",
      "17046/17046 [==============================] - 4s 213us/step - loss: 0.5737 - binary_accuracy: 0.8448\n",
      "Epoch 46/100\n",
      "17046/17046 [==============================] - 4s 208us/step - loss: 0.5217 - binary_accuracy: 0.8618\n",
      "Epoch 47/100\n",
      "17046/17046 [==============================] - 4s 210us/step - loss: 0.5220 - binary_accuracy: 0.8598\n",
      "Epoch 48/100\n",
      "17046/17046 [==============================] - 4s 223us/step - loss: 0.5382 - binary_accuracy: 0.8582\n",
      "Epoch 49/100\n",
      "17046/17046 [==============================] - 4s 214us/step - loss: 0.5188 - binary_accuracy: 0.8648\n",
      "Epoch 50/100\n",
      "17046/17046 [==============================] - 4s 209us/step - loss: 0.5232 - binary_accuracy: 0.8607\n",
      "Epoch 51/100\n",
      "17046/17046 [==============================] - 4s 211us/step - loss: 0.5118 - binary_accuracy: 0.8635\n",
      "Epoch 52/100\n",
      "17046/17046 [==============================] - 4s 209us/step - loss: 0.5033 - binary_accuracy: 0.8665\n",
      "Epoch 53/100\n",
      "17046/17046 [==============================] - 4s 212us/step - loss: 0.5257 - binary_accuracy: 0.8650\n",
      "Epoch 54/100\n",
      "17046/17046 [==============================] - 4s 206us/step - loss: 0.5018 - binary_accuracy: 0.8657\n",
      "Epoch 55/100\n",
      "17046/17046 [==============================] - 3s 205us/step - loss: 0.4938 - binary_accuracy: 0.8725\n",
      "Epoch 56/100\n",
      "17046/17046 [==============================] - 4s 207us/step - loss: 0.4926 - binary_accuracy: 0.8723\n",
      "Epoch 57/100\n",
      "17046/17046 [==============================] - 4s 210us/step - loss: 0.4850 - binary_accuracy: 0.8709\n",
      "Epoch 58/100\n",
      "17046/17046 [==============================] - 4s 216us/step - loss: 0.5066 - binary_accuracy: 0.8679\n",
      "Epoch 59/100\n",
      "17046/17046 [==============================] - 4s 214us/step - loss: 0.5064 - binary_accuracy: 0.8668\n",
      "Epoch 60/100\n",
      "17046/17046 [==============================] - 4s 208us/step - loss: 0.4933 - binary_accuracy: 0.8708\n",
      "Epoch 61/100\n",
      "17046/17046 [==============================] - 4s 222us/step - loss: 0.4982 - binary_accuracy: 0.8743\n",
      "Epoch 62/100\n",
      "17046/17046 [==============================] - 4s 206us/step - loss: 0.5174 - binary_accuracy: 0.8655\n",
      "Epoch 63/100\n",
      "17046/17046 [==============================] - 4s 207us/step - loss: 0.5075 - binary_accuracy: 0.8691\n",
      "Epoch 64/100\n",
      "17046/17046 [==============================] - 4s 207us/step - loss: 0.4872 - binary_accuracy: 0.8735\n",
      "Epoch 65/100\n",
      "17046/17046 [==============================] - 4s 215us/step - loss: 0.4843 - binary_accuracy: 0.8756\n",
      "Epoch 66/100\n",
      "17046/17046 [==============================] - 4s 214us/step - loss: 0.4938 - binary_accuracy: 0.8705\n",
      "Epoch 67/100\n",
      "17046/17046 [==============================] - 4s 209us/step - loss: 0.5000 - binary_accuracy: 0.8691\n",
      "Epoch 68/100\n",
      "17046/17046 [==============================] - 4s 205us/step - loss: 0.4467 - binary_accuracy: 0.8833\n",
      "Epoch 69/100\n",
      "17046/17046 [==============================] - 4s 210us/step - loss: 0.4680 - binary_accuracy: 0.8817\n",
      "Epoch 70/100\n",
      "17046/17046 [==============================] - 4s 236us/step - loss: 0.4637 - binary_accuracy: 0.8810\n",
      "Epoch 71/100\n"
     ]
    },
    {
     "name": "stdout",
     "output_type": "stream",
     "text": [
      "17046/17046 [==============================] - 4s 210us/step - loss: 0.4601 - binary_accuracy: 0.8825\n",
      "Epoch 72/100\n",
      "17046/17046 [==============================] - 4s 216us/step - loss: 0.4596 - binary_accuracy: 0.8802\n",
      "Epoch 73/100\n",
      "17046/17046 [==============================] - 4s 207us/step - loss: 0.4626 - binary_accuracy: 0.8818\n",
      "Epoch 74/100\n",
      "17046/17046 [==============================] - 4s 209us/step - loss: 0.4514 - binary_accuracy: 0.8845\n",
      "Epoch 75/100\n",
      "17046/17046 [==============================] - 4s 214us/step - loss: 0.4827 - binary_accuracy: 0.8767\n",
      "Epoch 76/100\n",
      "17046/17046 [==============================] - 4s 212us/step - loss: 0.4774 - binary_accuracy: 0.8783\n",
      "Epoch 77/100\n",
      "17046/17046 [==============================] - 4s 218us/step - loss: 0.4630 - binary_accuracy: 0.8800\n",
      "Epoch 78/100\n",
      "17046/17046 [==============================] - 4s 213us/step - loss: 0.4673 - binary_accuracy: 0.8778\n",
      "Epoch 79/100\n",
      "17046/17046 [==============================] - 4s 212us/step - loss: 0.4559 - binary_accuracy: 0.8830\n",
      "Epoch 80/100\n",
      "17046/17046 [==============================] - 4s 212us/step - loss: 0.4836 - binary_accuracy: 0.8762\n",
      "Epoch 81/100\n",
      "17046/17046 [==============================] - 4s 209us/step - loss: 0.4675 - binary_accuracy: 0.8835\n",
      "Epoch 82/100\n",
      "17046/17046 [==============================] - 4s 206us/step - loss: 0.4721 - binary_accuracy: 0.8793\n",
      "Epoch 83/100\n",
      "17046/17046 [==============================] - 4s 214us/step - loss: 0.4822 - binary_accuracy: 0.8791\n",
      "Epoch 84/100\n",
      "17046/17046 [==============================] - 4s 206us/step - loss: 0.4512 - binary_accuracy: 0.8863\n",
      "Epoch 85/100\n",
      "17046/17046 [==============================] - 3s 205us/step - loss: 0.4675 - binary_accuracy: 0.8810\n",
      "Epoch 86/100\n",
      "17046/17046 [==============================] - 4s 209us/step - loss: 0.4615 - binary_accuracy: 0.8847\n",
      "Epoch 87/100\n",
      "17046/17046 [==============================] - 3s 205us/step - loss: 0.4325 - binary_accuracy: 0.8873\n",
      "Epoch 88/100\n",
      "17046/17046 [==============================] - 4s 208us/step - loss: 0.4321 - binary_accuracy: 0.8900\n",
      "Epoch 89/100\n",
      "17046/17046 [==============================] - 4s 215us/step - loss: 0.4392 - binary_accuracy: 0.8867\n",
      "Epoch 90/100\n",
      "17046/17046 [==============================] - 4s 213us/step - loss: 0.4554 - binary_accuracy: 0.8851\n",
      "Epoch 91/100\n",
      "17046/17046 [==============================] - 4s 210us/step - loss: 0.4386 - binary_accuracy: 0.8878\n",
      "Epoch 92/100\n",
      "17046/17046 [==============================] - 4s 210us/step - loss: 0.4716 - binary_accuracy: 0.8815\n",
      "Epoch 93/100\n",
      "17046/17046 [==============================] - 4s 206us/step - loss: 0.4292 - binary_accuracy: 0.8895\n",
      "Epoch 94/100\n",
      "17046/17046 [==============================] - 4s 206us/step - loss: 0.4526 - binary_accuracy: 0.8836\n",
      "Epoch 95/100\n",
      "17046/17046 [==============================] - 4s 218us/step - loss: 0.4548 - binary_accuracy: 0.8894\n",
      "Epoch 96/100\n",
      "17046/17046 [==============================] - 4s 206us/step - loss: 0.4857 - binary_accuracy: 0.8850\n",
      "Epoch 97/100\n",
      "17046/17046 [==============================] - 4s 207us/step - loss: 0.4719 - binary_accuracy: 0.8814\n",
      "Epoch 98/100\n",
      "17046/17046 [==============================] - 4s 215us/step - loss: 0.4713 - binary_accuracy: 0.8829\n",
      "Epoch 99/100\n",
      "17046/17046 [==============================] - 4s 211us/step - loss: 0.4643 - binary_accuracy: 0.8829\n",
      "Epoch 100/100\n",
      "17046/17046 [==============================] - 4s 209us/step - loss: 0.4474 - binary_accuracy: 0.8899\n",
      "Training is done!\n"
     ]
    }
   ],
   "source": [
    "m.fit(x_data, y_data)"
   ]
  },
  {
   "cell_type": "code",
   "execution_count": 44,
   "metadata": {},
   "outputs": [],
   "source": [
    "trained = m1.model\n"
   ]
  },
  {
   "cell_type": "code",
   "execution_count": 45,
   "metadata": {},
   "outputs": [
    {
     "name": "stdout",
     "output_type": "stream",
     "text": [
      "Dataset 153.90384600000016\n",
      "[21308  3291 53302 36331 16883  6106 10744  5772 50309 24783]\n",
      "Epoch 1/100\n",
      "54926/54926 [==============================] - 12s 215us/step - loss: 2.1629 - binary_accuracy: 0.3134\n",
      "Epoch 2/100\n",
      "54926/54926 [==============================] - 13s 231us/step - loss: 2.0998 - binary_accuracy: 0.3130\n",
      "Epoch 3/100\n",
      "54926/54926 [==============================] - 13s 231us/step - loss: 2.0889 - binary_accuracy: 0.3112\n",
      "Epoch 4/100\n",
      "54926/54926 [==============================] - 12s 219us/step - loss: 2.0822 - binary_accuracy: 0.3083\n",
      "Epoch 5/100\n",
      "54926/54926 [==============================] - 12s 217us/step - loss: 2.0490 - binary_accuracy: 0.3185\n",
      "Epoch 6/100\n",
      "54926/54926 [==============================] - 12s 225us/step - loss: 2.0547 - binary_accuracy: 0.3145\n",
      "Epoch 7/100\n",
      "54926/54926 [==============================] - 12s 226us/step - loss: 2.0375 - binary_accuracy: 0.3254\n",
      "Epoch 8/100\n",
      "54926/54926 [==============================] - 13s 233us/step - loss: 2.0474 - binary_accuracy: 0.3178\n",
      "Epoch 9/100\n",
      "54926/54926 [==============================] - 13s 234us/step - loss: 2.0483 - binary_accuracy: 0.3148\n",
      "Epoch 10/100\n",
      "54926/54926 [==============================] - 13s 236us/step - loss: 2.0167 - binary_accuracy: 0.3251\n",
      "Epoch 11/100\n",
      "54926/54926 [==============================] - 13s 238us/step - loss: 1.9921 - binary_accuracy: 0.3311\n",
      "Epoch 12/100\n",
      "54926/54926 [==============================] - 13s 242us/step - loss: 2.0052 - binary_accuracy: 0.3304\n",
      "Epoch 13/100\n",
      "54926/54926 [==============================] - 12s 221us/step - loss: 2.0213 - binary_accuracy: 0.3243\n",
      "Epoch 14/100\n",
      "54926/54926 [==============================] - 12s 223us/step - loss: 2.0233 - binary_accuracy: 0.3229\n",
      "Epoch 15/100\n",
      "54926/54926 [==============================] - 13s 231us/step - loss: 2.0278 - binary_accuracy: 0.3201\n",
      "Epoch 16/100\n",
      "54926/54926 [==============================] - 12s 225us/step - loss: 1.9617 - binary_accuracy: 0.3397\n",
      "Epoch 17/100\n",
      "54926/54926 [==============================] - 14s 257us/step - loss: 1.9578 - binary_accuracy: 0.3372\n",
      "Epoch 18/100\n",
      "54926/54926 [==============================] - 15s 264us/step - loss: 1.9726 - binary_accuracy: 0.3298\n",
      "Epoch 19/100\n",
      "54926/54926 [==============================] - 14s 257us/step - loss: 1.9218 - binary_accuracy: 0.3521\n",
      "Epoch 20/100\n",
      "54926/54926 [==============================] - 13s 243us/step - loss: 1.9800 - binary_accuracy: 0.3332\n",
      "Epoch 21/100\n",
      "54926/54926 [==============================] - 14s 247us/step - loss: 1.9449 - binary_accuracy: 0.3406\n",
      "Epoch 22/100\n",
      "54926/54926 [==============================] - 14s 247us/step - loss: 1.9569 - binary_accuracy: 0.3385\n",
      "Epoch 23/100\n",
      "54926/54926 [==============================] - 14s 252us/step - loss: 2.0260 - binary_accuracy: 0.3197\n",
      "Epoch 24/100\n",
      "54926/54926 [==============================] - 14s 250us/step - loss: 1.9579 - binary_accuracy: 0.3349\n",
      "Epoch 25/100\n",
      "54926/54926 [==============================] - 14s 247us/step - loss: 1.9715 - binary_accuracy: 0.3336\n",
      "Epoch 26/100\n",
      "54926/54926 [==============================] - 14s 249us/step - loss: 1.9432 - binary_accuracy: 0.3406\n",
      "Epoch 27/100\n",
      "54926/54926 [==============================] - 14s 248us/step - loss: 1.9511 - binary_accuracy: 0.3398\n",
      "Epoch 28/100\n",
      "54926/54926 [==============================] - 14s 248us/step - loss: 2.0069 - binary_accuracy: 0.3257\n",
      "Epoch 29/100\n",
      "54926/54926 [==============================] - 13s 242us/step - loss: 1.9284 - binary_accuracy: 0.3464\n",
      "Epoch 30/100\n",
      "54926/54926 [==============================] - 13s 239us/step - loss: 1.9247 - binary_accuracy: 0.3444\n",
      "Epoch 31/100\n",
      "54926/54926 [==============================] - 13s 233us/step - loss: 1.9191 - binary_accuracy: 0.3441\n",
      "Epoch 32/100\n",
      "54926/54926 [==============================] - 13s 228us/step - loss: 1.9464 - binary_accuracy: 0.3400\n",
      "Epoch 33/100\n",
      "54926/54926 [==============================] - 12s 228us/step - loss: 1.9405 - binary_accuracy: 0.3437\n",
      "Epoch 34/100\n",
      "54926/54926 [==============================] - 12s 223us/step - loss: 1.9561 - binary_accuracy: 0.3403\n",
      "Epoch 35/100\n",
      "54926/54926 [==============================] - 13s 245us/step - loss: 1.9305 - binary_accuracy: 0.3454\n",
      "Epoch 36/100\n",
      "54926/54926 [==============================] - 14s 247us/step - loss: 1.8851 - binary_accuracy: 0.3579\n",
      "Epoch 37/100\n",
      "54926/54926 [==============================] - 13s 242us/step - loss: 1.9013 - binary_accuracy: 0.3536\n",
      "Epoch 38/100\n",
      "54926/54926 [==============================] - 13s 237us/step - loss: 1.8976 - binary_accuracy: 0.3557\n",
      "Epoch 39/100\n",
      "54926/54926 [==============================] - 14s 247us/step - loss: 1.9156 - binary_accuracy: 0.3541\n",
      "Epoch 40/100\n",
      "54926/54926 [==============================] - 14s 254us/step - loss: 1.9369 - binary_accuracy: 0.3467\n",
      "Epoch 41/100\n",
      "54926/54926 [==============================] - 13s 246us/step - loss: 1.9135 - binary_accuracy: 0.3556\n",
      "Epoch 42/100\n",
      "54926/54926 [==============================] - 13s 246us/step - loss: 1.9060 - binary_accuracy: 0.3501\n",
      "Epoch 43/100\n",
      "54926/54926 [==============================] - 12s 211us/step - loss: 1.8916 - binary_accuracy: 0.3552\n",
      "Epoch 44/100\n",
      "54926/54926 [==============================] - 12s 217us/step - loss: 1.9173 - binary_accuracy: 0.3504\n",
      "Epoch 45/100\n",
      "54926/54926 [==============================] - 12s 223us/step - loss: 1.8853 - binary_accuracy: 0.3596\n",
      "Epoch 46/100\n",
      "54926/54926 [==============================] - 14s 251us/step - loss: 1.8989 - binary_accuracy: 0.3537\n",
      "Epoch 47/100\n",
      "54926/54926 [==============================] - 14s 253us/step - loss: 1.8801 - binary_accuracy: 0.3594\n",
      "Epoch 48/100\n",
      "54926/54926 [==============================] - 13s 234us/step - loss: 1.8636 - binary_accuracy: 0.3679\n",
      "Epoch 49/100\n",
      "54926/54926 [==============================] - 14s 256us/step - loss: 1.9006 - binary_accuracy: 0.3523\n",
      "Epoch 50/100\n",
      "54926/54926 [==============================] - 13s 245us/step - loss: 1.9085 - binary_accuracy: 0.3519\n",
      "Epoch 51/100\n",
      "54926/54926 [==============================] - 14s 246us/step - loss: 1.8581 - binary_accuracy: 0.3635\n",
      "Epoch 52/100\n",
      "54926/54926 [==============================] - 13s 241us/step - loss: 1.8710 - binary_accuracy: 0.3638\n",
      "Epoch 53/100\n",
      "54926/54926 [==============================] - 13s 243us/step - loss: 1.8792 - binary_accuracy: 0.3562\n",
      "Epoch 54/100\n",
      "54926/54926 [==============================] - 13s 244us/step - loss: 1.9205 - binary_accuracy: 0.3527\n",
      "Epoch 55/100\n",
      "54926/54926 [==============================] - 13s 237us/step - loss: 1.8868 - binary_accuracy: 0.3572\n",
      "Epoch 56/100\n",
      "54926/54926 [==============================] - 13s 241us/step - loss: 1.8359 - binary_accuracy: 0.3739\n",
      "Epoch 57/100\n",
      "54926/54926 [==============================] - 13s 241us/step - loss: 1.8782 - binary_accuracy: 0.3609\n",
      "Epoch 58/100\n",
      "54926/54926 [==============================] - 13s 235us/step - loss: 1.8664 - binary_accuracy: 0.3651\n",
      "Epoch 59/100\n",
      "54926/54926 [==============================] - 14s 247us/step - loss: 1.8503 - binary_accuracy: 0.3694\n",
      "Epoch 60/100\n",
      "54926/54926 [==============================] - 14s 258us/step - loss: 1.8625 - binary_accuracy: 0.3650\n",
      "Epoch 61/100\n",
      "54926/54926 [==============================] - 13s 232us/step - loss: 1.8584 - binary_accuracy: 0.3656\n",
      "Epoch 62/100\n",
      "54926/54926 [==============================] - 12s 220us/step - loss: 1.8898 - binary_accuracy: 0.3615\n",
      "Epoch 63/100\n",
      "54926/54926 [==============================] - 12s 228us/step - loss: 1.8736 - binary_accuracy: 0.3653\n",
      "Epoch 64/100\n",
      "54926/54926 [==============================] - 13s 232us/step - loss: 1.8251 - binary_accuracy: 0.3776\n",
      "Epoch 65/100\n",
      "54926/54926 [==============================] - 13s 228us/step - loss: 1.8680 - binary_accuracy: 0.3642\n",
      "Epoch 66/100\n",
      "54926/54926 [==============================] - 12s 225us/step - loss: 1.8522 - binary_accuracy: 0.3671\n",
      "Epoch 67/100\n",
      "54926/54926 [==============================] - 13s 232us/step - loss: 1.8248 - binary_accuracy: 0.3775\n",
      "Epoch 68/100\n",
      "54926/54926 [==============================] - 12s 219us/step - loss: 1.7971 - binary_accuracy: 0.3813\n",
      "Epoch 69/100\n",
      "54926/54926 [==============================] - 13s 228us/step - loss: 1.8048 - binary_accuracy: 0.3800\n",
      "Epoch 70/100\n"
     ]
    },
    {
     "name": "stdout",
     "output_type": "stream",
     "text": [
      "54926/54926 [==============================] - 12s 215us/step - loss: 1.8507 - binary_accuracy: 0.3734\n",
      "Epoch 71/100\n",
      "54926/54926 [==============================] - 13s 230us/step - loss: 1.8045 - binary_accuracy: 0.3826\n",
      "Epoch 72/100\n",
      "54926/54926 [==============================] - 13s 245us/step - loss: 1.8242 - binary_accuracy: 0.3781\n",
      "Epoch 73/100\n",
      "54926/54926 [==============================] - 13s 245us/step - loss: 1.8565 - binary_accuracy: 0.3731\n",
      "Epoch 74/100\n",
      "54926/54926 [==============================] - 13s 236us/step - loss: 1.8352 - binary_accuracy: 0.3755\n",
      "Epoch 75/100\n",
      "54926/54926 [==============================] - 14s 251us/step - loss: 1.8110 - binary_accuracy: 0.3798\n",
      "Epoch 76/100\n",
      "54926/54926 [==============================] - 14s 247us/step - loss: 1.8227 - binary_accuracy: 0.3827\n",
      "Epoch 77/100\n",
      "54926/54926 [==============================] - 14s 251us/step - loss: 1.8061 - binary_accuracy: 0.3846\n",
      "Epoch 78/100\n",
      "54926/54926 [==============================] - 14s 246us/step - loss: 1.8078 - binary_accuracy: 0.3836\n",
      "Epoch 79/100\n",
      "54926/54926 [==============================] - 12s 226us/step - loss: 1.8025 - binary_accuracy: 0.3852\n",
      "Epoch 80/100\n",
      "54926/54926 [==============================] - 12s 220us/step - loss: 1.8608 - binary_accuracy: 0.3763\n",
      "Epoch 81/100\n",
      "54926/54926 [==============================] - 12s 224us/step - loss: 1.8297 - binary_accuracy: 0.3764\n",
      "Epoch 82/100\n",
      "54926/54926 [==============================] - 13s 241us/step - loss: 1.7820 - binary_accuracy: 0.3906\n",
      "Epoch 83/100\n",
      "54926/54926 [==============================] - 13s 229us/step - loss: 1.8102 - binary_accuracy: 0.3854\n",
      "Epoch 84/100\n",
      "54926/54926 [==============================] - 12s 228us/step - loss: 1.8041 - binary_accuracy: 0.3836\n",
      "Epoch 85/100\n",
      "54926/54926 [==============================] - 13s 232us/step - loss: 1.7827 - binary_accuracy: 0.3923\n",
      "Epoch 86/100\n",
      "54926/54926 [==============================] - 12s 224us/step - loss: 1.8146 - binary_accuracy: 0.3875\n",
      "Epoch 87/100\n",
      "54926/54926 [==============================] - 13s 239us/step - loss: 1.7921 - binary_accuracy: 0.3900\n",
      "Epoch 88/100\n",
      "54926/54926 [==============================] - 14s 247us/step - loss: 1.7915 - binary_accuracy: 0.3929\n",
      "Epoch 89/100\n",
      "54926/54926 [==============================] - 14s 256us/step - loss: 1.7867 - binary_accuracy: 0.3949\n",
      "Epoch 90/100\n",
      "54926/54926 [==============================] - 14s 248us/step - loss: 1.8509 - binary_accuracy: 0.3812\n",
      "Epoch 91/100\n",
      "54926/54926 [==============================] - 13s 240us/step - loss: 1.8060 - binary_accuracy: 0.3912\n",
      "Epoch 92/100\n",
      "54926/54926 [==============================] - 12s 222us/step - loss: 1.7939 - binary_accuracy: 0.3868\n",
      "Epoch 93/100\n",
      "54926/54926 [==============================] - 12s 217us/step - loss: 1.7643 - binary_accuracy: 0.3952\n",
      "Epoch 94/100\n",
      "54926/54926 [==============================] - 12s 224us/step - loss: 1.8316 - binary_accuracy: 0.3802\n",
      "Epoch 95/100\n",
      "54926/54926 [==============================] - 12s 226us/step - loss: 1.7872 - binary_accuracy: 0.3864\n",
      "Epoch 96/100\n",
      "54926/54926 [==============================] - 13s 229us/step - loss: 1.8495 - binary_accuracy: 0.3705\n",
      "Epoch 97/100\n",
      "54926/54926 [==============================] - 12s 219us/step - loss: 1.7985 - binary_accuracy: 0.3833\n",
      "Epoch 98/100\n",
      "54926/54926 [==============================] - 12s 220us/step - loss: 1.7756 - binary_accuracy: 0.3908\n",
      "Epoch 99/100\n",
      "54926/54926 [==============================] - 13s 229us/step - loss: 1.7482 - binary_accuracy: 0.4008\n",
      "Epoch 100/100\n",
      "54926/54926 [==============================] - 13s 236us/step - loss: 1.7643 - binary_accuracy: 0.3955\n",
      "Training is done!\n"
     ]
    }
   ],
   "source": [
    "m1 = model()\n",
    "m1.fit(x_data, y_data, trained)\n"
   ]
  },
  {
   "cell_type": "code",
   "execution_count": 46,
   "metadata": {},
   "outputs": [
    {
     "data": {
      "text/plain": [
       "<matplotlib.image.AxesImage at 0x7fefbd7232b0>"
      ]
     },
     "execution_count": 46,
     "metadata": {},
     "output_type": "execute_result"
    },
    {
     "data": {
      "image/png": "[encoded data removed]",
      "text/plain": [
       "<Figure size 432x288 with 1 Axes>"
      ]
     },
     "metadata": {},
     "output_type": "display_data"
    }
   ],
   "source": [
    "plt.imshow(xx[0])"
   ]
  },
  {
   "cell_type": "code",
   "execution_count": 45,
   "metadata": {},
   "outputs": [
    {
     "name": "stdout",
     "output_type": "stream",
     "text": [
      "0/1\n",
      "(33856, 11, 11, 1)\n",
      "33856 33856\n",
      "(33856, 1) (200, 200)\n",
      "0.02841446124763705\n"
     ]
    }
   ],
   "source": [
    "y = []\n",
    "xx = [x_data[125]]\n",
    "for i in range(len(xx)):\n",
    "    print(str(i) + '/' + str(len(xx)))\n",
    "    pieces = np.array([a.reshape((*a.shape, 1)) for a in get_raw_examples(xx[i])])\n",
    "    print(np.array(pieces).shape)\n",
    "    #print(pieces[0])\n",
    "    z, t, z1, t1 = get_examples(xx[i], ypic_data[i])\n",
    "    z += z1\n",
    "    t += t1\n",
    "    \n",
    "    print(len(z), len(t))\n",
    "    pred = m.model.predict(pieces)\n",
    "    print(pred.shape, ypic_data[125].shape)\n",
    "    print(((pred>0.5).ravel()==t).sum()/len(t))\n",
    "    ans = get_ans(xx[i].shape, pred)\n",
    "    y += [ans]\n",
    "#print(y)"
   ]
  },
  {
   "cell_type": "code",
   "execution_count": null,
   "metadata": {},
   "outputs": [],
   "source": [
    "y"
   ]
  },
  {
   "cell_type": "code",
   "execution_count": 33,
   "metadata": {},
   "outputs": [
    {
     "name": "stdout",
     "output_type": "stream",
     "text": [
      "855\n"
     ]
    }
   ],
   "source": [
    "print((pred>0.999999).sum())"
   ]
  },
  {
   "cell_type": "code",
   "execution_count": 62,
   "metadata": {},
   "outputs": [
    {
     "data": {
      "text/plain": [
       "(array([ 3192,  4729, 10857, 15957, 24306, 26245]), array([0, 0, 0, 0, 0, 0]))"
      ]
     },
     "execution_count": 62,
     "metadata": {},
     "output_type": "execute_result"
    }
   ],
   "source": [
    "np.where(pred>0.9999999)"
   ]
  },
  {
   "cell_type": "code",
   "execution_count": null,
   "metadata": {},
   "outputs": [],
   "source": []
  }
 ],
 "metadata": {
  "kernelspec": {
   "display_name": "Python 3",
   "language": "python",
   "name": "python3"
  },
  "language_info": {
   "codemirror_mode": {
    "name": "ipython",
    "version": 3
   },
   "file_extension": ".py",
   "mimetype": "text/x-python",
   "name": "python",
   "nbconvert_exporter": "python",
   "pygments_lexer": "ipython3",
   "version": "3.5.2"
  }
 },
 "nbformat": 4,
 "nbformat_minor": 2
}
